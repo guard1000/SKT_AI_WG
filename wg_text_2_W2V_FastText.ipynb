{
  "nbformat": 4,
  "nbformat_minor": 0,
  "metadata": {
    "colab": {
      "name": "wg_text_2_W2V_FastText.ipynb",
      "provenance": [],
      "collapsed_sections": [],
      "mount_file_id": "19izUyVjNVxJ0gmaCzF0XGRweJgLhDmem",
      "authorship_tag": "ABX9TyMz51845/dWwPt/nXorxuFA",
      "include_colab_link": true
    },
    "kernelspec": {
      "name": "python3",
      "display_name": "Python 3"
    }
  },
  "cells": [
    {
      "cell_type": "markdown",
      "metadata": {
        "id": "view-in-github",
        "colab_type": "text"
      },
      "source": [
        "<a href=\"https://colab.research.google.com/github/guard1000/SKT_AI_WG/blob/master/wg_text_2_W2V_FastText.ipynb\" target=\"_parent\"><img src=\"https://colab.research.google.com/assets/colab-badge.svg\" alt=\"Open In Colab\"/></a>"
      ]
    },
    {
      "cell_type": "markdown",
      "metadata": {
        "id": "DupDmBuk91wI",
        "colab_type": "text"
      },
      "source": [
        "# **W2V, FastText 예시**"
      ]
    },
    {
      "cell_type": "markdown",
      "metadata": {
        "id": "faaV_tht9t1-",
        "colab_type": "text"
      },
      "source": [
        "## **데이터 로드 - 형태소 분리 된 VoC**"
      ]
    },
    {
      "cell_type": "code",
      "metadata": {
        "id": "L7UK5RV4wZOS",
        "colab_type": "code",
        "colab": {
          "base_uri": "https://localhost:8080/",
          "height": 406
        },
        "outputId": "f5d93d06-a6a4-4801-fd4a-297fe2b56152"
      },
      "source": [
        "import pandas as pd\n",
        "\n",
        "vocs = pd.read_csv(\"/content/drive/My Drive/data/wg_data_2.csv\")\n",
        "vocs # 형태소 분리까지 진행된 VOC 메모로 진행\n",
        "\n",
        "# 단 이 예시는 110건 뿐인 메모 텍스트로 진행하여 정확도가 많이 부족!!"
      ],
      "execution_count": 32,
      "outputs": [
        {
          "output_type": "execute_result",
          "data": {
            "text/html": [
              "<div>\n",
              "<style scoped>\n",
              "    .dataframe tbody tr th:only-of-type {\n",
              "        vertical-align: middle;\n",
              "    }\n",
              "\n",
              "    .dataframe tbody tr th {\n",
              "        vertical-align: top;\n",
              "    }\n",
              "\n",
              "    .dataframe thead th {\n",
              "        text-align: right;\n",
              "    }\n",
              "</style>\n",
              "<table border=\"1\" class=\"dataframe\">\n",
              "  <thead>\n",
              "    <tr style=\"text-align: right;\">\n",
              "      <th></th>\n",
              "      <th>Unnamed: 0</th>\n",
              "      <th>memo</th>\n",
              "      <th>label</th>\n",
              "    </tr>\n",
              "  </thead>\n",
              "  <tbody>\n",
              "    <tr>\n",
              "      <th>0</th>\n",
              "      <td>0</td>\n",
              "      <td>고 댁 내부 통화시 음질 끊기다 단말기 버전 설정 여부 설정 후 비교 안내</td>\n",
              "      <td>2</td>\n",
              "    </tr>\n",
              "    <tr>\n",
              "      <th>1</th>\n",
              "      <td>1</td>\n",
              "      <td>갑자기 며칠 전 영상통화 시 말소리 들리다 함 해당 주소지 품질 및 특이 사항 여부...</td>\n",
              "      <td>1</td>\n",
              "    </tr>\n",
              "    <tr>\n",
              "      <th>2</th>\n",
              "      <td>2</td>\n",
              "      <td>어제 해당 지역 일대 발 연결 실패</td>\n",
              "      <td>2</td>\n",
              "    </tr>\n",
              "    <tr>\n",
              "      <th>3</th>\n",
              "      <td>3</td>\n",
              "      <td>영상 통화시 화면 깨지다 조사 방문 하다 이상없다 하다 함 장소 무관 증상</td>\n",
              "      <td>1</td>\n",
              "    </tr>\n",
              "    <tr>\n",
              "      <th>4</th>\n",
              "      <td>4</td>\n",
              "      <td>통화 음질 끊기다 달다 위치 무관 집 유독 증상</td>\n",
              "      <td>2</td>\n",
              "    </tr>\n",
              "    <tr>\n",
              "      <th>...</th>\n",
              "      <td>...</td>\n",
              "      <td>...</td>\n",
              "      <td>...</td>\n",
              "    </tr>\n",
              "    <tr>\n",
              "      <th>105</th>\n",
              "      <td>105</td>\n",
              "      <td>지하 층 발 실패</td>\n",
              "      <td>2</td>\n",
              "    </tr>\n",
              "    <tr>\n",
              "      <th>106</th>\n",
              "      <td>106</td>\n",
              "      <td>음성 통화 정상 영상통화 발신 문의 초기 초기 원재</td>\n",
              "      <td>1</td>\n",
              "    </tr>\n",
              "    <tr>\n",
              "      <th>107</th>\n",
              "      <td>107</td>\n",
              "      <td>불 특정 데이터 전원 리셋 후 잠깐 되다 다시 동일 증상 데이타 삭제 전원 리셋 안...</td>\n",
              "      <td>0</td>\n",
              "    </tr>\n",
              "    <tr>\n",
              "      <th>108</th>\n",
              "      <td>108</td>\n",
              "      <td>실내 외 오다 가다 오다 번갈아 잡히다 불량</td>\n",
              "      <td>0</td>\n",
              "    </tr>\n",
              "    <tr>\n",
              "      <th>109</th>\n",
              "      <td>109</td>\n",
              "      <td>영상통화 불가 문의 음성 데이터 정상 도시 에러 메세지 나오다 리셋 후 이용 요청 ...</td>\n",
              "      <td>1</td>\n",
              "    </tr>\n",
              "  </tbody>\n",
              "</table>\n",
              "<p>110 rows × 3 columns</p>\n",
              "</div>"
            ],
            "text/plain": [
              "     Unnamed: 0                                               memo  label\n",
              "0             0          고 댁 내부 통화시 음질 끊기다 단말기 버전 설정 여부 설정 후 비교 안내      2\n",
              "1             1  갑자기 며칠 전 영상통화 시 말소리 들리다 함 해당 주소지 품질 및 특이 사항 여부...      1\n",
              "2             2                                어제 해당 지역 일대 발 연결 실패      2\n",
              "3             3          영상 통화시 화면 깨지다 조사 방문 하다 이상없다 하다 함 장소 무관 증상      1\n",
              "4             4                         통화 음질 끊기다 달다 위치 무관 집 유독 증상      2\n",
              "..          ...                                                ...    ...\n",
              "105         105                                          지하 층 발 실패      2\n",
              "106         106                       음성 통화 정상 영상통화 발신 문의 초기 초기 원재      1\n",
              "107         107  불 특정 데이터 전원 리셋 후 잠깐 되다 다시 동일 증상 데이타 삭제 전원 리셋 안...      0\n",
              "108         108                           실내 외 오다 가다 오다 번갈아 잡히다 불량      0\n",
              "109         109  영상통화 불가 문의 음성 데이터 정상 도시 에러 메세지 나오다 리셋 후 이용 요청 ...      1\n",
              "\n",
              "[110 rows x 3 columns]"
            ]
          },
          "metadata": {
            "tags": []
          },
          "execution_count": 32
        }
      ]
    },
    {
      "cell_type": "code",
      "metadata": {
        "id": "TnHPhExH2l78",
        "colab_type": "code",
        "colab": {
          "base_uri": "https://localhost:8080/",
          "height": 90
        },
        "outputId": "6cc3180d-21d1-44ef-8c6f-5b6be1b40090"
      },
      "source": [
        "memos = list(vocs['memo'])\n",
        "memos = [memos[_].split() for _ in range(len(memos))]\n",
        "\n",
        "# 쪼개진 메모는 다음과 같이 생김\n",
        "for _ in range(3):\n",
        "  print(memos[_])"
      ],
      "execution_count": 87,
      "outputs": [
        {
          "output_type": "stream",
          "text": [
            "['고', '댁', '내부', '통화시', '음질', '끊기다', '단말기', '버전', '설정', '여부', '설정', '후', '비교', '안내']\n",
            "['갑자기', '며칠', '전', '영상통화', '시', '말소리', '들리다', '함', '해당', '주소지', '품질', '및', '특이', '사항', '여부', '개선', '방향', '확인']\n",
            "['어제', '해당', '지역', '일대', '발', '연결', '실패']\n"
          ],
          "name": "stdout"
        }
      ]
    },
    {
      "cell_type": "markdown",
      "metadata": {
        "id": "sQM4fhMW-MzN",
        "colab_type": "text"
      },
      "source": [
        "**gensim의 W2V 활용**"
      ]
    },
    {
      "cell_type": "code",
      "metadata": {
        "id": "-pLuO-ca87rh",
        "colab_type": "code",
        "colab": {
          "base_uri": "https://localhost:8080/",
          "height": 534
        },
        "outputId": "22ba277e-ba7a-499f-b587-68aa317c94c3"
      },
      "source": [
        "from gensim.models import Word2Vec\n",
        "\n",
        "model_wv = Word2Vec(sentences, size=100, window=5, min_count=1, workers=1)\n",
        "\n",
        "# '끊기다' 가 100차원의 다음과 같은 벡터로 표현된 것을 확인\n",
        "word_vector = model_wv['끊기다']\n",
        "word_vector"
      ],
      "execution_count": 86,
      "outputs": [
        {
          "output_type": "stream",
          "text": [
            "/usr/local/lib/python3.6/dist-packages/ipykernel_launcher.py:4: DeprecationWarning: Call to deprecated `__getitem__` (Method will be removed in 4.0.0, use self.wv.__getitem__() instead).\n",
            "  after removing the cwd from sys.path.\n"
          ],
          "name": "stderr"
        },
        {
          "output_type": "execute_result",
          "data": {
            "text/plain": [
              "array([ 3.0700595e-03,  5.1291813e-03, -1.4529935e-04,  1.4090438e-03,\n",
              "       -4.9345237e-03,  1.1287900e-03, -9.8025159e-04,  2.3789373e-03,\n",
              "       -9.3801599e-04,  3.4076835e-03,  2.0988609e-03, -3.1627538e-03,\n",
              "        3.2192786e-04,  1.7429060e-04,  4.3378975e-03,  4.7299271e-03,\n",
              "       -3.8431580e-03, -1.0053875e-03,  4.6490361e-03,  8.6828426e-04,\n",
              "       -7.1158039e-04, -3.8595719e-03,  5.4840406e-04,  4.8373877e-03,\n",
              "       -1.6285841e-03, -4.4237399e-03, -5.1976141e-04, -2.6790989e-03,\n",
              "        1.5748818e-05,  1.5035822e-04,  3.1804056e-03, -4.7901473e-03,\n",
              "        1.4740651e-03,  3.9874734e-03,  4.8906235e-03, -2.6079535e-04,\n",
              "       -1.9921402e-03, -4.4864630e-03,  5.2448164e-04, -1.2219426e-03,\n",
              "       -2.4585945e-03, -4.6764347e-03,  4.5736264e-03,  1.5747255e-03,\n",
              "        4.4245599e-03,  2.7669827e-04,  3.2354279e-03,  3.8136342e-03,\n",
              "        2.2637047e-04,  2.1334032e-03, -2.2158157e-03,  1.8581656e-03,\n",
              "        3.0487417e-03, -3.7539715e-03,  3.6320037e-03, -2.2663074e-03,\n",
              "        4.5885416e-03, -1.6223652e-03,  2.3526500e-03,  3.3297418e-03,\n",
              "       -2.2028142e-03,  9.4446586e-04,  4.5728507e-03, -3.6771193e-03,\n",
              "       -2.0535474e-03, -3.1626970e-03, -3.0083272e-03,  4.0620817e-03,\n",
              "       -2.9534055e-03,  1.8920741e-03,  4.2680223e-03, -1.3583440e-03,\n",
              "        1.1786320e-03, -3.7920275e-03, -2.6867315e-03,  2.0725576e-03,\n",
              "       -1.9009490e-03,  2.1464338e-03, -1.5609030e-03, -3.3812521e-03,\n",
              "       -3.0489753e-03,  1.1586805e-03, -2.8859838e-03,  4.3169451e-03,\n",
              "       -4.0193652e-03,  3.6404659e-03,  4.5413254e-03, -3.7978068e-03,\n",
              "       -2.6074348e-03,  2.9391118e-03, -2.4039550e-03,  4.0976866e-03,\n",
              "        5.0504417e-03,  3.3456299e-03, -1.7003680e-03,  2.8354882e-03,\n",
              "        3.4805755e-03,  2.5310996e-03,  4.7461768e-03,  4.5646317e-03],\n",
              "      dtype=float32)"
            ]
          },
          "metadata": {
            "tags": []
          },
          "execution_count": 86
        }
      ]
    },
    {
      "cell_type": "code",
      "metadata": {
        "id": "bg_cXeoxwpLN",
        "colab_type": "code",
        "colab": {
          "base_uri": "https://localhost:8080/",
          "height": 285
        },
        "outputId": "fd5ac745-f216-468d-c6d4-358c214cbff8"
      },
      "source": [
        "# '끊기다' 와 가까운 토큰이 어떤 것이 있는지 확인\n",
        "model_wv.similar_by_word(\"끊기다\")"
      ],
      "execution_count": 84,
      "outputs": [
        {
          "output_type": "stream",
          "text": [
            "/usr/local/lib/python3.6/dist-packages/ipykernel_launcher.py:1: DeprecationWarning: Call to deprecated `similar_by_word` (Method will be removed in 4.0.0, use self.wv.similar_by_word() instead).\n",
            "  \"\"\"Entry point for launching an IPython kernel.\n",
            "/usr/local/lib/python3.6/dist-packages/gensim/matutils.py:737: FutureWarning: Conversion of the second argument of issubdtype from `int` to `np.signedinteger` is deprecated. In future, it will be treated as `np.int64 == np.dtype(int).type`.\n",
            "  if np.issubdtype(vec.dtype, np.int):\n"
          ],
          "name": "stderr"
        },
        {
          "output_type": "execute_result",
          "data": {
            "text/plain": [
              "[('멈추다', 0.35110971331596375),\n",
              " ('이상', 0.3092804551124573),\n",
              " ('차단', 0.29047995805740356),\n",
              " ('정상', 0.2861219644546509),\n",
              " ('임', 0.2467975616455078),\n",
              " ('이전', 0.24015173316001892),\n",
              " ('전환', 0.2345866858959198),\n",
              " ('시점', 0.2308594137430191),\n",
              " ('복도', 0.22565309703350067),\n",
              " ('외부', 0.22561289370059967)]"
            ]
          },
          "metadata": {
            "tags": []
          },
          "execution_count": 84
        }
      ]
    },
    {
      "cell_type": "code",
      "metadata": {
        "id": "NIFMA3ZS9PjH",
        "colab_type": "code",
        "colab": {
          "base_uri": "https://localhost:8080/",
          "height": 374
        },
        "outputId": "b879f471-849b-4b60-b821-fe449c3d26ed"
      },
      "source": [
        "# '끊기다'가 아닌 '끊기' 는 OOV 인 것을 확인\n",
        "model_wv.similar_by_word(\"끊기\")"
      ],
      "execution_count": 85,
      "outputs": [
        {
          "output_type": "stream",
          "text": [
            "/usr/local/lib/python3.6/dist-packages/ipykernel_launcher.py:1: DeprecationWarning: Call to deprecated `similar_by_word` (Method will be removed in 4.0.0, use self.wv.similar_by_word() instead).\n",
            "  \"\"\"Entry point for launching an IPython kernel.\n"
          ],
          "name": "stderr"
        },
        {
          "output_type": "error",
          "ename": "KeyError",
          "evalue": "ignored",
          "traceback": [
            "\u001b[0;31m---------------------------------------------------------------------------\u001b[0m",
            "\u001b[0;31mKeyError\u001b[0m                                  Traceback (most recent call last)",
            "\u001b[0;32m<ipython-input-85-fbca0ec5d9b4>\u001b[0m in \u001b[0;36m<module>\u001b[0;34m()\u001b[0m\n\u001b[0;32m----> 1\u001b[0;31m \u001b[0mmodel_wv\u001b[0m\u001b[0;34m.\u001b[0m\u001b[0msimilar_by_word\u001b[0m\u001b[0;34m(\u001b[0m\u001b[0;34m\"끊기\"\u001b[0m\u001b[0;34m)\u001b[0m\u001b[0;34m\u001b[0m\u001b[0;34m\u001b[0m\u001b[0m\n\u001b[0m",
            "\u001b[0;32m/usr/local/lib/python3.6/dist-packages/gensim/utils.py\u001b[0m in \u001b[0;36mnew_func1\u001b[0;34m(*args, **kwargs)\u001b[0m\n\u001b[1;32m   1420\u001b[0m                     \u001b[0mstacklevel\u001b[0m\u001b[0;34m=\u001b[0m\u001b[0;36m2\u001b[0m\u001b[0;34m\u001b[0m\u001b[0;34m\u001b[0m\u001b[0m\n\u001b[1;32m   1421\u001b[0m                 )\n\u001b[0;32m-> 1422\u001b[0;31m                 \u001b[0;32mreturn\u001b[0m \u001b[0mfunc\u001b[0m\u001b[0;34m(\u001b[0m\u001b[0;34m*\u001b[0m\u001b[0margs\u001b[0m\u001b[0;34m,\u001b[0m \u001b[0;34m**\u001b[0m\u001b[0mkwargs\u001b[0m\u001b[0;34m)\u001b[0m\u001b[0;34m\u001b[0m\u001b[0;34m\u001b[0m\u001b[0m\n\u001b[0m\u001b[1;32m   1423\u001b[0m \u001b[0;34m\u001b[0m\u001b[0m\n\u001b[1;32m   1424\u001b[0m             \u001b[0;32mreturn\u001b[0m \u001b[0mnew_func1\u001b[0m\u001b[0;34m\u001b[0m\u001b[0;34m\u001b[0m\u001b[0m\n",
            "\u001b[0;32m/usr/local/lib/python3.6/dist-packages/gensim/models/base_any2vec.py\u001b[0m in \u001b[0;36msimilar_by_word\u001b[0;34m(self, word, topn, restrict_vocab)\u001b[0m\n\u001b[1;32m   1423\u001b[0m \u001b[0;34m\u001b[0m\u001b[0m\n\u001b[1;32m   1424\u001b[0m         \"\"\"\n\u001b[0;32m-> 1425\u001b[0;31m         \u001b[0;32mreturn\u001b[0m \u001b[0mself\u001b[0m\u001b[0;34m.\u001b[0m\u001b[0mwv\u001b[0m\u001b[0;34m.\u001b[0m\u001b[0msimilar_by_word\u001b[0m\u001b[0;34m(\u001b[0m\u001b[0mword\u001b[0m\u001b[0;34m,\u001b[0m \u001b[0mtopn\u001b[0m\u001b[0;34m,\u001b[0m \u001b[0mrestrict_vocab\u001b[0m\u001b[0;34m)\u001b[0m\u001b[0;34m\u001b[0m\u001b[0;34m\u001b[0m\u001b[0m\n\u001b[0m\u001b[1;32m   1426\u001b[0m \u001b[0;34m\u001b[0m\u001b[0m\n\u001b[1;32m   1427\u001b[0m     \u001b[0;34m@\u001b[0m\u001b[0mdeprecated\u001b[0m\u001b[0;34m(\u001b[0m\u001b[0;34m\"Method will be removed in 4.0.0, use self.wv.similar_by_vector() instead\"\u001b[0m\u001b[0;34m)\u001b[0m\u001b[0;34m\u001b[0m\u001b[0;34m\u001b[0m\u001b[0m\n",
            "\u001b[0;32m/usr/local/lib/python3.6/dist-packages/gensim/models/keyedvectors.py\u001b[0m in \u001b[0;36msimilar_by_word\u001b[0;34m(self, word, topn, restrict_vocab)\u001b[0m\n\u001b[1;32m    570\u001b[0m \u001b[0;34m\u001b[0m\u001b[0m\n\u001b[1;32m    571\u001b[0m         \"\"\"\n\u001b[0;32m--> 572\u001b[0;31m         \u001b[0;32mreturn\u001b[0m \u001b[0mself\u001b[0m\u001b[0;34m.\u001b[0m\u001b[0mmost_similar\u001b[0m\u001b[0;34m(\u001b[0m\u001b[0mpositive\u001b[0m\u001b[0;34m=\u001b[0m\u001b[0;34m[\u001b[0m\u001b[0mword\u001b[0m\u001b[0;34m]\u001b[0m\u001b[0;34m,\u001b[0m \u001b[0mtopn\u001b[0m\u001b[0;34m=\u001b[0m\u001b[0mtopn\u001b[0m\u001b[0;34m,\u001b[0m \u001b[0mrestrict_vocab\u001b[0m\u001b[0;34m=\u001b[0m\u001b[0mrestrict_vocab\u001b[0m\u001b[0;34m)\u001b[0m\u001b[0;34m\u001b[0m\u001b[0;34m\u001b[0m\u001b[0m\n\u001b[0m\u001b[1;32m    573\u001b[0m \u001b[0;34m\u001b[0m\u001b[0m\n\u001b[1;32m    574\u001b[0m     \u001b[0;32mdef\u001b[0m \u001b[0msimilar_by_vector\u001b[0m\u001b[0;34m(\u001b[0m\u001b[0mself\u001b[0m\u001b[0;34m,\u001b[0m \u001b[0mvector\u001b[0m\u001b[0;34m,\u001b[0m \u001b[0mtopn\u001b[0m\u001b[0;34m=\u001b[0m\u001b[0;36m10\u001b[0m\u001b[0;34m,\u001b[0m \u001b[0mrestrict_vocab\u001b[0m\u001b[0;34m=\u001b[0m\u001b[0;32mNone\u001b[0m\u001b[0;34m)\u001b[0m\u001b[0;34m:\u001b[0m\u001b[0;34m\u001b[0m\u001b[0;34m\u001b[0m\u001b[0m\n",
            "\u001b[0;32m/usr/local/lib/python3.6/dist-packages/gensim/models/keyedvectors.py\u001b[0m in \u001b[0;36mmost_similar\u001b[0;34m(self, positive, negative, topn, restrict_vocab, indexer)\u001b[0m\n\u001b[1;32m    529\u001b[0m                 \u001b[0mmean\u001b[0m\u001b[0;34m.\u001b[0m\u001b[0mappend\u001b[0m\u001b[0;34m(\u001b[0m\u001b[0mweight\u001b[0m \u001b[0;34m*\u001b[0m \u001b[0mword\u001b[0m\u001b[0;34m)\u001b[0m\u001b[0;34m\u001b[0m\u001b[0;34m\u001b[0m\u001b[0m\n\u001b[1;32m    530\u001b[0m             \u001b[0;32melse\u001b[0m\u001b[0;34m:\u001b[0m\u001b[0;34m\u001b[0m\u001b[0;34m\u001b[0m\u001b[0m\n\u001b[0;32m--> 531\u001b[0;31m                 \u001b[0mmean\u001b[0m\u001b[0;34m.\u001b[0m\u001b[0mappend\u001b[0m\u001b[0;34m(\u001b[0m\u001b[0mweight\u001b[0m \u001b[0;34m*\u001b[0m \u001b[0mself\u001b[0m\u001b[0;34m.\u001b[0m\u001b[0mword_vec\u001b[0m\u001b[0;34m(\u001b[0m\u001b[0mword\u001b[0m\u001b[0;34m,\u001b[0m \u001b[0muse_norm\u001b[0m\u001b[0;34m=\u001b[0m\u001b[0;32mTrue\u001b[0m\u001b[0;34m)\u001b[0m\u001b[0;34m)\u001b[0m\u001b[0;34m\u001b[0m\u001b[0;34m\u001b[0m\u001b[0m\n\u001b[0m\u001b[1;32m    532\u001b[0m                 \u001b[0;32mif\u001b[0m \u001b[0mword\u001b[0m \u001b[0;32min\u001b[0m \u001b[0mself\u001b[0m\u001b[0;34m.\u001b[0m\u001b[0mvocab\u001b[0m\u001b[0;34m:\u001b[0m\u001b[0;34m\u001b[0m\u001b[0;34m\u001b[0m\u001b[0m\n\u001b[1;32m    533\u001b[0m                     \u001b[0mall_words\u001b[0m\u001b[0;34m.\u001b[0m\u001b[0madd\u001b[0m\u001b[0;34m(\u001b[0m\u001b[0mself\u001b[0m\u001b[0;34m.\u001b[0m\u001b[0mvocab\u001b[0m\u001b[0;34m[\u001b[0m\u001b[0mword\u001b[0m\u001b[0;34m]\u001b[0m\u001b[0;34m.\u001b[0m\u001b[0mindex\u001b[0m\u001b[0;34m)\u001b[0m\u001b[0;34m\u001b[0m\u001b[0;34m\u001b[0m\u001b[0m\n",
            "\u001b[0;32m/usr/local/lib/python3.6/dist-packages/gensim/models/keyedvectors.py\u001b[0m in \u001b[0;36mword_vec\u001b[0;34m(self, word, use_norm)\u001b[0m\n\u001b[1;32m    450\u001b[0m             \u001b[0;32mreturn\u001b[0m \u001b[0mresult\u001b[0m\u001b[0;34m\u001b[0m\u001b[0;34m\u001b[0m\u001b[0m\n\u001b[1;32m    451\u001b[0m         \u001b[0;32melse\u001b[0m\u001b[0;34m:\u001b[0m\u001b[0;34m\u001b[0m\u001b[0;34m\u001b[0m\u001b[0m\n\u001b[0;32m--> 452\u001b[0;31m             \u001b[0;32mraise\u001b[0m \u001b[0mKeyError\u001b[0m\u001b[0;34m(\u001b[0m\u001b[0;34m\"word '%s' not in vocabulary\"\u001b[0m \u001b[0;34m%\u001b[0m \u001b[0mword\u001b[0m\u001b[0;34m)\u001b[0m\u001b[0;34m\u001b[0m\u001b[0;34m\u001b[0m\u001b[0m\n\u001b[0m\u001b[1;32m    453\u001b[0m \u001b[0;34m\u001b[0m\u001b[0m\n\u001b[1;32m    454\u001b[0m     \u001b[0;32mdef\u001b[0m \u001b[0mget_vector\u001b[0m\u001b[0;34m(\u001b[0m\u001b[0mself\u001b[0m\u001b[0;34m,\u001b[0m \u001b[0mword\u001b[0m\u001b[0;34m)\u001b[0m\u001b[0;34m:\u001b[0m\u001b[0;34m\u001b[0m\u001b[0;34m\u001b[0m\u001b[0m\n",
            "\u001b[0;31mKeyError\u001b[0m: \"word '끊기' not in vocabulary\""
          ]
        }
      ]
    },
    {
      "cell_type": "markdown",
      "metadata": {
        "id": "4CmM8xko-jm5",
        "colab_type": "text"
      },
      "source": [
        "**gensim의 FastText 활용**"
      ]
    },
    {
      "cell_type": "code",
      "metadata": {
        "id": "grZXZwsn3cwO",
        "colab_type": "code",
        "colab": {
          "base_uri": "https://localhost:8080/",
          "height": 534
        },
        "outputId": "9276d624-400b-42a1-e01d-2a3350557e1d"
      },
      "source": [
        "from gensim.models import FastText\n",
        "\n",
        "model_ft = FastText(sentences, size=100, window=5, min_count=1, workers=1)\n",
        "\n",
        "# '끊기다' 가 100차원의 다음과 같은 벡터로 표현된 것을 확인\n",
        "word_vector = model_ft['끊기다']\n",
        "word_vector"
      ],
      "execution_count": 88,
      "outputs": [
        {
          "output_type": "stream",
          "text": [
            "/usr/local/lib/python3.6/dist-packages/ipykernel_launcher.py:4: DeprecationWarning: Call to deprecated `__getitem__` (Method will be removed in 4.0.0, use self.wv.__getitem__() instead).\n",
            "  after removing the cwd from sys.path.\n"
          ],
          "name": "stderr"
        },
        {
          "output_type": "execute_result",
          "data": {
            "text/plain": [
              "array([ 7.10378285e-04,  2.12009461e-03, -1.23402767e-03,  1.63436623e-03,\n",
              "       -1.10078603e-04,  2.77563767e-03,  2.32162722e-03,  3.31401150e-03,\n",
              "       -6.23401999e-03,  5.14641986e-04, -2.28509353e-03, -4.23149875e-04,\n",
              "        2.18724622e-03,  8.46595154e-04, -3.23895947e-03,  2.71788985e-03,\n",
              "        1.92196958e-03, -1.21033390e-03,  1.21673488e-03, -1.48567196e-03,\n",
              "        2.13052332e-03, -1.55458786e-03,  9.51985930e-05,  1.95710431e-03,\n",
              "       -8.46808252e-04, -3.34203389e-04, -3.11125023e-03,  1.19444412e-04,\n",
              "        2.15940434e-03,  2.29058016e-04, -1.74690480e-03,  4.61580406e-04,\n",
              "        1.64444023e-03,  4.31981898e-04, -2.96857953e-03, -1.26082450e-04,\n",
              "        4.55371756e-03, -1.05769059e-03,  2.44484050e-04, -2.52240710e-03,\n",
              "        7.47635320e-04,  1.32860162e-03,  1.81758124e-03,  3.22315539e-03,\n",
              "       -6.12622476e-04, -2.13402716e-04,  1.93328329e-03,  3.96236777e-04,\n",
              "       -2.91096512e-04,  1.36614981e-04, -2.76873424e-03,  4.39131167e-03,\n",
              "        1.01097114e-03,  3.07397917e-04,  2.90562923e-04, -1.48665428e-03,\n",
              "        2.17062305e-03, -4.51189233e-03,  4.06855019e-03,  9.83971549e-05,\n",
              "       -1.37753435e-03,  3.16513964e-04,  1.09169132e-03,  1.90603721e-03,\n",
              "        9.07850626e-04,  3.98294674e-03,  1.00547844e-03,  2.95846304e-03,\n",
              "        3.93491425e-03,  4.21576900e-03, -1.01214088e-03, -4.19217953e-03,\n",
              "       -9.69807952e-05,  3.92598376e-05,  2.08877912e-03, -9.79605946e-04,\n",
              "        1.42614788e-03, -1.02613762e-03,  3.42113478e-03,  2.60694581e-03,\n",
              "        2.48442078e-03,  4.04046674e-04, -1.84016384e-03,  1.33958296e-03,\n",
              "        2.70332396e-03,  8.36883555e-04, -5.42791095e-04, -7.96235225e-04,\n",
              "       -1.35247887e-03,  2.45611975e-03,  8.19818641e-04, -1.25724904e-03,\n",
              "        1.18070086e-04,  8.54035316e-04, -4.11298266e-03,  1.25760830e-03,\n",
              "        3.24820983e-03, -5.93781762e-04,  1.62951113e-03,  3.31544713e-03],\n",
              "      dtype=float32)"
            ]
          },
          "metadata": {
            "tags": []
          },
          "execution_count": 88
        }
      ]
    },
    {
      "cell_type": "code",
      "metadata": {
        "id": "Bz4VptXC-sfc",
        "colab_type": "code",
        "colab": {
          "base_uri": "https://localhost:8080/",
          "height": 285
        },
        "outputId": "d1b305be-32a3-4ba8-d513-a7723bb24088"
      },
      "source": [
        "# '끊기다' 와 가까운 토큰이 어떤 것이 있는지 확인\n",
        "model_ft.similar_by_word(\"끊기다\")"
      ],
      "execution_count": 89,
      "outputs": [
        {
          "output_type": "stream",
          "text": [
            "/usr/local/lib/python3.6/dist-packages/ipykernel_launcher.py:1: DeprecationWarning: Call to deprecated `similar_by_word` (Method will be removed in 4.0.0, use self.wv.similar_by_word() instead).\n",
            "  \"\"\"Entry point for launching an IPython kernel.\n",
            "/usr/local/lib/python3.6/dist-packages/gensim/matutils.py:737: FutureWarning: Conversion of the second argument of issubdtype from `int` to `np.signedinteger` is deprecated. In future, it will be treated as `np.int64 == np.dtype(int).type`.\n",
            "  if np.issubdtype(vec.dtype, np.int):\n"
          ],
          "name": "stderr"
        },
        {
          "output_type": "execute_result",
          "data": {
            "text/plain": [
              "[('재부팅', 0.2603576183319092),\n",
              " ('정상', 0.2591269910335541),\n",
              " ('부터', 0.2519091069698334),\n",
              " ('오전', 0.2500319480895996),\n",
              " ('영상', 0.24804644286632538),\n",
              " ('이나', 0.24126824736595154),\n",
              " ('서비스', 0.22986099123954773),\n",
              " ('설치', 0.22251838445663452),\n",
              " ('안보', 0.22199317812919617),\n",
              " ('이용', 0.215547114610672)]"
            ]
          },
          "metadata": {
            "tags": []
          },
          "execution_count": 89
        }
      ]
    },
    {
      "cell_type": "code",
      "metadata": {
        "id": "-uu2f1XF71RA",
        "colab_type": "code",
        "colab": {
          "base_uri": "https://localhost:8080/",
          "height": 285
        },
        "outputId": "0dc54383-43f8-4d22-b83d-39f3fe30c69e"
      },
      "source": [
        "# '끊기다'가 아닌 '끊기' 가 OOV가 아닌 것을 확인 - W2V와 방식의 차이 때문!\n",
        "model_ft.similar_by_word(\"끊기\")"
      ],
      "execution_count": 79,
      "outputs": [
        {
          "output_type": "stream",
          "text": [
            "/usr/local/lib/python3.6/dist-packages/ipykernel_launcher.py:1: DeprecationWarning: Call to deprecated `similar_by_word` (Method will be removed in 4.0.0, use self.wv.similar_by_word() instead).\n",
            "  \"\"\"Entry point for launching an IPython kernel.\n",
            "/usr/local/lib/python3.6/dist-packages/gensim/matutils.py:737: FutureWarning: Conversion of the second argument of issubdtype from `int` to `np.signedinteger` is deprecated. In future, it will be treated as `np.int64 == np.dtype(int).type`.\n",
            "  if np.issubdtype(vec.dtype, np.int):\n"
          ],
          "name": "stderr"
        },
        {
          "output_type": "execute_result",
          "data": {
            "text/plain": [
              "[('끊기다', 0.3004772365093231),\n",
              " ('모르다', 0.27049022912979126),\n",
              " ('사무실', 0.2628417909145355),\n",
              " ('담당자', 0.250863641500473),\n",
              " ('증상', 0.241227924823761),\n",
              " ('서비스', 0.2286764681339264),\n",
              " ('하니', 0.22495798766613007),\n",
              " ('말소리', 0.2092963457107544),\n",
              " ('어제', 0.20514419674873352),\n",
              " ('개선', 0.20320461690425873)]"
            ]
          },
          "metadata": {
            "tags": []
          },
          "execution_count": 79
        }
      ]
    }
  ]
}