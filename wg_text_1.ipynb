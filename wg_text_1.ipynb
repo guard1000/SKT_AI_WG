{
  "nbformat": 4,
  "nbformat_minor": 0,
  "metadata": {
    "colab": {
      "name": "wg_text_1.ipynb",
      "provenance": [],
      "collapsed_sections": [],
      "mount_file_id": "1yFYvjroND_B61WfRA0FxJ5X2BlX1MqFK",
      "authorship_tag": "ABX9TyN52JCxs1XSuHDBs9NA0n0B",
      "include_colab_link": true
    },
    "kernelspec": {
      "name": "python3",
      "display_name": "Python 3"
    }
  },
  "cells": [
    {
      "cell_type": "markdown",
      "metadata": {
        "id": "view-in-github",
        "colab_type": "text"
      },
      "source": [
        "<a href=\"https://colab.research.google.com/github/guard1000/SKT_AI_WG/blob/master/wg_text_1.ipynb\" target=\"_parent\"><img src=\"https://colab.research.google.com/assets/colab-badge.svg\" alt=\"Open In Colab\"/></a>"
      ]
    },
    {
      "cell_type": "code",
      "metadata": {
        "id": "TARcj1e8ekpL",
        "colab_type": "code",
        "colab": {}
      },
      "source": [
        "import pandas as pd\n",
        "import re\n",
        "import matplotlib.pyplot as plt"
      ],
      "execution_count": null,
      "outputs": []
    },
    {
      "cell_type": "code",
      "metadata": {
        "id": "zS1jzQHhfVIw",
        "colab_type": "code",
        "colab": {
          "base_uri": "https://localhost:8080/",
          "height": 406
        },
        "outputId": "b7fad53c-dc94-499b-88e0-6ad117799808"
      },
      "source": [
        "# 엑셀파일 읽어오는 코드. 아래 주소는 엑셀파일의 주소로 변경하세요!\n",
        "#  -- ex) 엑셀파일이 같은 폴더에 있다면, pd.read_excel(\"wg_data.xlsx\", sheet_name='Sheet1') \n",
        "vocs = pd.read_excel(\"/content/drive/My Drive/data/wg_data.xlsx\", sheet_name='Sheet1')\n",
        "vocs"
      ],
      "execution_count": null,
      "outputs": [
        {
          "output_type": "execute_result",
          "data": {
            "text/html": [
              "<div>\n",
              "<style scoped>\n",
              "    .dataframe tbody tr th:only-of-type {\n",
              "        vertical-align: middle;\n",
              "    }\n",
              "\n",
              "    .dataframe tbody tr th {\n",
              "        vertical-align: top;\n",
              "    }\n",
              "\n",
              "    .dataframe thead th {\n",
              "        text-align: right;\n",
              "    }\n",
              "</style>\n",
              "<table border=\"1\" class=\"dataframe\">\n",
              "  <thead>\n",
              "    <tr style=\"text-align: right;\">\n",
              "      <th></th>\n",
              "      <th>memo</th>\n",
              "      <th>label</th>\n",
              "    </tr>\n",
              "  </thead>\n",
              "  <tbody>\n",
              "    <tr>\n",
              "      <th>0</th>\n",
              "      <td>자택과 직장에서 장소상관없이 음질%^&amp;^&amp; 및 데이터 끊김 발생됨.</td>\n",
              "      <td>데이터품질</td>\n",
              "    </tr>\n",
              "    <tr>\n",
              "      <th>1</th>\n",
              "      <td>[원클릭-양호] -실내외 왔다갔다하면 LTE와 5G번갈아 잡혀 불량</td>\n",
              "      <td>데이터품질</td>\n",
              "    </tr>\n",
              "    <tr>\n",
              "      <th>2</th>\n",
              "      <td>[원클릭-문의 ] 현기 1. 상세증상: 원래 괜찮았는데 일@#@@@@_+주일안쪽으로...</td>\n",
              "      <td>데이터품질</td>\n",
              "    </tr>\n",
              "    <tr>\n",
              "      <th>3</th>\n",
              "      <td>' [CE진단-양호]  시설공급 1. 상세증상:  안테나 2칸 데이터 접속 느림,끊...</td>\n",
              "      <td>데이터품질</td>\n",
              "    </tr>\n",
              "    <tr>\n",
              "      <th>4</th>\n",
              "      <td>[원클릭-문의]  -일주%^&amp;^&amp;일전부터  -안테나 안뜨거나 3G 변경되며 음질 끊...</td>\n",
              "      <td>데이터품질</td>\n",
              "    </tr>\n",
              "    <tr>\n",
              "      <th>...</th>\n",
              "      <td>...</td>\n",
              "      <td>...</td>\n",
              "    </tr>\n",
              "    <tr>\n",
              "      <th>105</th>\n",
              "      <td>여기서 30분 전부터 갑자기 통화가 ########$안된다고 함  다른데로 이동은 ...</td>\n",
              "      <td>음성품질</td>\n",
              "    </tr>\n",
              "    <tr>\n",
              "      <th>106</th>\n",
              "      <td>CE진단결과 양호 (W- 품질개선가능여부) 1. 상세증상 : 집안에서도 절반정도 통...</td>\n",
              "      <td>음성품질</td>\n",
              "    </tr>\n",
              "    <tr>\n",
              "      <th>107</th>\n",
              "      <td>(C- 특이사항) 1. 상세증상 : - 몇개월전부터/  수신실패/위치무관/  2....</td>\n",
              "      <td>음성품질</td>\n",
              "    </tr>\n",
              "    <tr>\n",
              "      <th>108</th>\n",
              "      <td>며칠전 자택내 수신실패  당일오전 댁내 통화도중 네트워크불안정 문구뜨며 음질끊김  ...</td>\n",
              "      <td>음성품질</td>\n",
              "    </tr>\n",
              "    <tr>\n",
              "      <th>109</th>\n",
              "      <td>어제부터 전화 수발신 실패 증상</td>\n",
              "      <td>음성품질</td>\n",
              "    </tr>\n",
              "  </tbody>\n",
              "</table>\n",
              "<p>110 rows × 2 columns</p>\n",
              "</div>"
            ],
            "text/plain": [
              "                                                  memo  label\n",
              "0               자택과 직장에서 장소상관없이 음질%^&^& 및 데이터 끊김 발생됨.   데이터품질\n",
              "1               [원클릭-양호] -실내외 왔다갔다하면 LTE와 5G번갈아 잡혀 불량   데이터품질\n",
              "2    [원클릭-문의 ] 현기 1. 상세증상: 원래 괜찮았는데 일@#@@@@_+주일안쪽으로...  데이터품질\n",
              "3    ' [CE진단-양호]  시설공급 1. 상세증상:  안테나 2칸 데이터 접속 느림,끊...  데이터품질\n",
              "4    [원클릭-문의]  -일주%^&^&일전부터  -안테나 안뜨거나 3G 변경되며 음질 끊...  데이터품질\n",
              "..                                                 ...    ...\n",
              "105  여기서 30분 전부터 갑자기 통화가 ########$안된다고 함  다른데로 이동은 ...   음성품질\n",
              "106  CE진단결과 양호 (W- 품질개선가능여부) 1. 상세증상 : 집안에서도 절반정도 통...   음성품질\n",
              "107   (C- 특이사항) 1. 상세증상 : - 몇개월전부터/  수신실패/위치무관/  2....   음성품질\n",
              "108  며칠전 자택내 수신실패  당일오전 댁내 통화도중 네트워크불안정 문구뜨며 음질끊김  ...   음성품질\n",
              "109                                어제부터 전화 수발신 실패 증상     음성품질\n",
              "\n",
              "[110 rows x 2 columns]"
            ]
          },
          "metadata": {
            "tags": []
          },
          "execution_count": 56
        }
      ]
    },
    {
      "cell_type": "code",
      "metadata": {
        "id": "zuZaGbp5f05z",
        "colab_type": "code",
        "colab": {}
      },
      "source": [
        "# 전처리 - []으로 시작하는거 제거, 상세증상, 특수문자 제거, 용어 변환, 레이블 숫자변환, 셔플\n",
        "# Data Visualise -  레이블별 분포, 평균길이 등\n",
        "# 토큰화 - konlpy okt 사용해서 태그 달아주기 -> 명사, 동사만 남기고 다 제거!\n",
        "# 인덱싱 - 사전 만들기 및 사전표현하기"
      ],
      "execution_count": null,
      "outputs": []
    },
    {
      "cell_type": "markdown",
      "metadata": {
        "id": "Ad4u7nFih7HM",
        "colab_type": "text"
      },
      "source": [
        "# **전처리 예시**"
      ]
    },
    {
      "cell_type": "code",
      "metadata": {
        "id": "CJlsjzNzf7vL",
        "colab_type": "code",
        "colab": {
          "base_uri": "https://localhost:8080/",
          "height": 406
        },
        "outputId": "d6f5bcc6-e934-47a1-fa19-902f07b8207b"
      },
      "source": [
        "# 1. 개행문자 제거 (Slicing)\n",
        "#    memo 들을 보면 [원클릭-양호] [CE진단-양호] 와 같이 시작하는 녀석들이 존재합니다\n",
        "#    이 친구들은 실제 메모 내용에 별 의미 없을테니 제거해줍시다.\n",
        "\n",
        "memos = list(vocs['memo']) # 메모만 불러와서\n",
        "for _ in range(len(memos)):\n",
        "  if memos[_][:3].find('[') != -1: # 문장의 앞 3 문자 중 '[' 이 존재한다면\n",
        "    start =  memos[_].find(']')      # 문장의 ']' 위치를 새로운 시작점으로 변경 \n",
        "    memos[_] = memos[_][start+1:]    # 텍스트 슬라이싱\n",
        "\n",
        "vocs['memo'] = memos                 # vocs 의 memo 컬럼을 전처리한 memos로 대체\n",
        "vocs"
      ],
      "execution_count": null,
      "outputs": [
        {
          "output_type": "execute_result",
          "data": {
            "text/html": [
              "<div>\n",
              "<style scoped>\n",
              "    .dataframe tbody tr th:only-of-type {\n",
              "        vertical-align: middle;\n",
              "    }\n",
              "\n",
              "    .dataframe tbody tr th {\n",
              "        vertical-align: top;\n",
              "    }\n",
              "\n",
              "    .dataframe thead th {\n",
              "        text-align: right;\n",
              "    }\n",
              "</style>\n",
              "<table border=\"1\" class=\"dataframe\">\n",
              "  <thead>\n",
              "    <tr style=\"text-align: right;\">\n",
              "      <th></th>\n",
              "      <th>memo</th>\n",
              "      <th>label</th>\n",
              "    </tr>\n",
              "  </thead>\n",
              "  <tbody>\n",
              "    <tr>\n",
              "      <th>0</th>\n",
              "      <td>자택과 직장에서 장소상관없이 음질%^&amp;^&amp; 및 데이터 끊김 발생됨.</td>\n",
              "      <td>데이터품질</td>\n",
              "    </tr>\n",
              "    <tr>\n",
              "      <th>1</th>\n",
              "      <td>-실내외 왔다갔다하면 LTE와 5G번갈아 잡혀 불량</td>\n",
              "      <td>데이터품질</td>\n",
              "    </tr>\n",
              "    <tr>\n",
              "      <th>2</th>\n",
              "      <td>현기 1. 상세증상: 원래 괜찮았는데 일@#@@@@_+주일안쪽으로 자택에서@#@@...</td>\n",
              "      <td>데이터품질</td>\n",
              "    </tr>\n",
              "    <tr>\n",
              "      <th>3</th>\n",
              "      <td>시설공급 1. 상세증상:  안테나 2칸 데이터 접속 느림,끊김  타사사용자는 양...</td>\n",
              "      <td>데이터품질</td>\n",
              "    </tr>\n",
              "    <tr>\n",
              "      <th>4</th>\n",
              "      <td>-일주%^&amp;^&amp;일전부터  -안테나 안뜨거나 3G 변경되며 음질 끊김 -데이터도 ...</td>\n",
              "      <td>데이터품질</td>\n",
              "    </tr>\n",
              "    <tr>\n",
              "      <th>...</th>\n",
              "      <td>...</td>\n",
              "      <td>...</td>\n",
              "    </tr>\n",
              "    <tr>\n",
              "      <th>105</th>\n",
              "      <td>여기서 30분 전부터 갑자기 통화가 ########$안된다고 함  다른데로 이동은 ...</td>\n",
              "      <td>음성품질</td>\n",
              "    </tr>\n",
              "    <tr>\n",
              "      <th>106</th>\n",
              "      <td>CE진단결과 양호 (W- 품질개선가능여부) 1. 상세증상 : 집안에서도 절반정도 통...</td>\n",
              "      <td>음성품질</td>\n",
              "    </tr>\n",
              "    <tr>\n",
              "      <th>107</th>\n",
              "      <td>(C- 특이사항) 1. 상세증상 : - 몇개월전부터/  수신실패/위치무관/  2....</td>\n",
              "      <td>음성품질</td>\n",
              "    </tr>\n",
              "    <tr>\n",
              "      <th>108</th>\n",
              "      <td>며칠전 자택내 수신실패  당일오전 댁내 통화도중 네트워크불안정 문구뜨며 음질끊김  ...</td>\n",
              "      <td>음성품질</td>\n",
              "    </tr>\n",
              "    <tr>\n",
              "      <th>109</th>\n",
              "      <td>어제부터 전화 수발신 실패 증상</td>\n",
              "      <td>음성품질</td>\n",
              "    </tr>\n",
              "  </tbody>\n",
              "</table>\n",
              "<p>110 rows × 2 columns</p>\n",
              "</div>"
            ],
            "text/plain": [
              "                                                  memo  label\n",
              "0               자택과 직장에서 장소상관없이 음질%^&^& 및 데이터 끊김 발생됨.   데이터품질\n",
              "1                        -실내외 왔다갔다하면 LTE와 5G번갈아 잡혀 불량   데이터품질\n",
              "2     현기 1. 상세증상: 원래 괜찮았는데 일@#@@@@_+주일안쪽으로 자택에서@#@@...  데이터품질\n",
              "3      시설공급 1. 상세증상:  안테나 2칸 데이터 접속 느림,끊김  타사사용자는 양...  데이터품질\n",
              "4      -일주%^&^&일전부터  -안테나 안뜨거나 3G 변경되며 음질 끊김 -데이터도 ...  데이터품질\n",
              "..                                                 ...    ...\n",
              "105  여기서 30분 전부터 갑자기 통화가 ########$안된다고 함  다른데로 이동은 ...   음성품질\n",
              "106  CE진단결과 양호 (W- 품질개선가능여부) 1. 상세증상 : 집안에서도 절반정도 통...   음성품질\n",
              "107   (C- 특이사항) 1. 상세증상 : - 몇개월전부터/  수신실패/위치무관/  2....   음성품질\n",
              "108  며칠전 자택내 수신실패  당일오전 댁내 통화도중 네트워크불안정 문구뜨며 음질끊김  ...   음성품질\n",
              "109                                어제부터 전화 수발신 실패 증상     음성품질\n",
              "\n",
              "[110 rows x 2 columns]"
            ]
          },
          "metadata": {
            "tags": []
          },
          "execution_count": 57
        }
      ]
    },
    {
      "cell_type": "code",
      "metadata": {
        "id": "POm8us5Ylg5O",
        "colab_type": "code",
        "colab": {
          "base_uri": "https://localhost:8080/",
          "height": 406
        },
        "outputId": "f32b648e-7da1-4308-f4c7-8fb86a01068b"
      },
      "source": [
        "# 2. 상세증상 추출 (Slicing)\n",
        "#    memo 들을 보면 '1.상세증상': ~  와 같은 포맷에 맞춘 메모들이 심심찮게 보입니다.\n",
        "#    상담유형을 분류하는데 상세증상이 핵심이고, 다른 내용은 noise 이므로 이런 포맷의 메모는\n",
        "#    상세증상에 해당하는 내용만 추출해 줍시다.\n",
        "\n",
        "memos = list(vocs['memo']) # 메모만 불러와서\n",
        "for _ in range(len(memos)):\n",
        "  if memos[_].find('상세증상') != -1:         # 문장에 '상세증상' 이 포함되 있다면\n",
        "    start =  memos[_].find('상세증상')        # 문장의 '상세증상' 위치를 새로운 시작점으로 변경\n",
        "    end = memos[_].find('2.')                   # 보통 위 포맷이 1. 상세증상 ~~ 2. ~~~ 이런 유형이기에... 2 전까지! \n",
        "    memos[_] = memos[_][start+5:end]      # 텍스트 슬라이싱\n",
        "\n",
        "vocs['memo'] = memos                   # vocs 의 memo 컬럼을 전처리한 memos로 대체\n",
        "vocs"
      ],
      "execution_count": null,
      "outputs": [
        {
          "output_type": "execute_result",
          "data": {
            "text/html": [
              "<div>\n",
              "<style scoped>\n",
              "    .dataframe tbody tr th:only-of-type {\n",
              "        vertical-align: middle;\n",
              "    }\n",
              "\n",
              "    .dataframe tbody tr th {\n",
              "        vertical-align: top;\n",
              "    }\n",
              "\n",
              "    .dataframe thead th {\n",
              "        text-align: right;\n",
              "    }\n",
              "</style>\n",
              "<table border=\"1\" class=\"dataframe\">\n",
              "  <thead>\n",
              "    <tr style=\"text-align: right;\">\n",
              "      <th></th>\n",
              "      <th>memo</th>\n",
              "      <th>label</th>\n",
              "    </tr>\n",
              "  </thead>\n",
              "  <tbody>\n",
              "    <tr>\n",
              "      <th>0</th>\n",
              "      <td>자택과 직장에서 장소상관없이 음질%^&amp;^&amp; 및 데이터 끊김 발생됨.</td>\n",
              "      <td>데이터품질</td>\n",
              "    </tr>\n",
              "    <tr>\n",
              "      <th>1</th>\n",
              "      <td>-실내외 왔다갔다하면 LTE와 5G번갈아 잡혀 불량</td>\n",
              "      <td>데이터품질</td>\n",
              "    </tr>\n",
              "    <tr>\n",
              "      <th>2</th>\n",
              "      <td>원래 괜찮았는데 일@#@@@@_+주일안쪽으로 자택에서@#@@@@_+만 단말기에서 ...</td>\n",
              "      <td>데이터품질</td>\n",
              "    </tr>\n",
              "    <tr>\n",
              "      <th>3</th>\n",
              "      <td>안테나 2칸 데이터 접속 느림,끊김  타사사용자는 양호  음성통화 정상   단말...</td>\n",
              "      <td>데이터품질</td>\n",
              "    </tr>\n",
              "    <tr>\n",
              "      <th>4</th>\n",
              "      <td>-일주%^&amp;^&amp;일전부터  -안테나 안뜨거나 3G 변경되며 음질 끊김 -데이터도 ...</td>\n",
              "      <td>데이터품질</td>\n",
              "    </tr>\n",
              "    <tr>\n",
              "      <th>...</th>\n",
              "      <td>...</td>\n",
              "      <td>...</td>\n",
              "    </tr>\n",
              "    <tr>\n",
              "      <th>105</th>\n",
              "      <td>여기서 30분 전부터 갑자기 통화가 ########$안된다고 함  다른데로 이동은 ...</td>\n",
              "      <td>음성품질</td>\n",
              "    </tr>\n",
              "    <tr>\n",
              "      <th>106</th>\n",
              "      <td>: 집안에서도 절반정도 통화안되는내용으로 품질확인요청</td>\n",
              "      <td>음성품질</td>\n",
              "    </tr>\n",
              "    <tr>\n",
              "      <th>107</th>\n",
              "      <td>: - 몇개월전부터/  수신실패/위치무관/</td>\n",
              "      <td>음성품질</td>\n",
              "    </tr>\n",
              "    <tr>\n",
              "      <th>108</th>\n",
              "      <td>며칠전 자택내 수신실패  당일오전 댁내 통화도중 네트워크불안정 문구뜨며 음질끊김  ...</td>\n",
              "      <td>음성품질</td>\n",
              "    </tr>\n",
              "    <tr>\n",
              "      <th>109</th>\n",
              "      <td>어제부터 전화 수발신 실패 증상</td>\n",
              "      <td>음성품질</td>\n",
              "    </tr>\n",
              "  </tbody>\n",
              "</table>\n",
              "<p>110 rows × 2 columns</p>\n",
              "</div>"
            ],
            "text/plain": [
              "                                                  memo  label\n",
              "0               자택과 직장에서 장소상관없이 음질%^&^& 및 데이터 끊김 발생됨.   데이터품질\n",
              "1                        -실내외 왔다갔다하면 LTE와 5G번갈아 잡혀 불량   데이터품질\n",
              "2     원래 괜찮았는데 일@#@@@@_+주일안쪽으로 자택에서@#@@@@_+만 단말기에서 ...  데이터품질\n",
              "3      안테나 2칸 데이터 접속 느림,끊김  타사사용자는 양호  음성통화 정상   단말...  데이터품질\n",
              "4      -일주%^&^&일전부터  -안테나 안뜨거나 3G 변경되며 음질 끊김 -데이터도 ...  데이터품질\n",
              "..                                                 ...    ...\n",
              "105  여기서 30분 전부터 갑자기 통화가 ########$안된다고 함  다른데로 이동은 ...   음성품질\n",
              "106                    : 집안에서도 절반정도 통화안되는내용으로 품질확인요청     음성품질\n",
              "107                          : - 몇개월전부터/  수신실패/위치무관/     음성품질\n",
              "108  며칠전 자택내 수신실패  당일오전 댁내 통화도중 네트워크불안정 문구뜨며 음질끊김  ...   음성품질\n",
              "109                                어제부터 전화 수발신 실패 증상     음성품질\n",
              "\n",
              "[110 rows x 2 columns]"
            ]
          },
          "metadata": {
            "tags": []
          },
          "execution_count": 58
        }
      ]
    },
    {
      "cell_type": "code",
      "metadata": {
        "id": "dfjbBKEmnRUp",
        "colab_type": "code",
        "colab": {
          "base_uri": "https://localhost:8080/",
          "height": 406
        },
        "outputId": "691b0b84-ff61-4007-e43d-37cf69624bf7"
      },
      "source": [
        "# 3. 특수문자 제거 (정규식)\n",
        "#    memo 들을 보면 '@#@@@@_+', '########$'와 같은 특수문자 noise가 보입니다. \n",
        "#    특수문자는 메모 내용을 파악하는데 noise이므로, 정규식을 활용해 정제해 줍시다\n",
        "\n",
        "pattern_ex = '[~!@#$%^&*()_+-/:;]' # 이 외에도 지울 대상 변경가능!\n",
        "\n",
        "memos = list(vocs['memo']) # 메모만 불러와서\n",
        "for _ in range(len(memos)):\n",
        "  memos[_] = re.sub(pattern_ex,'',memos[_])  \n",
        "\n",
        "vocs['memo'] = memos                   # vocs 의 memo 컬럼을 전처리한 memos로 대체\n",
        "vocs"
      ],
      "execution_count": null,
      "outputs": [
        {
          "output_type": "execute_result",
          "data": {
            "text/html": [
              "<div>\n",
              "<style scoped>\n",
              "    .dataframe tbody tr th:only-of-type {\n",
              "        vertical-align: middle;\n",
              "    }\n",
              "\n",
              "    .dataframe tbody tr th {\n",
              "        vertical-align: top;\n",
              "    }\n",
              "\n",
              "    .dataframe thead th {\n",
              "        text-align: right;\n",
              "    }\n",
              "</style>\n",
              "<table border=\"1\" class=\"dataframe\">\n",
              "  <thead>\n",
              "    <tr style=\"text-align: right;\">\n",
              "      <th></th>\n",
              "      <th>memo</th>\n",
              "      <th>label</th>\n",
              "    </tr>\n",
              "  </thead>\n",
              "  <tbody>\n",
              "    <tr>\n",
              "      <th>0</th>\n",
              "      <td>자택과 직장에서 장소상관없이 음질 및 데이터 끊김 발생됨</td>\n",
              "      <td>데이터품질</td>\n",
              "    </tr>\n",
              "    <tr>\n",
              "      <th>1</th>\n",
              "      <td>실내외 왔다갔다하면 LTE와 5G번갈아 잡혀 불량</td>\n",
              "      <td>데이터품질</td>\n",
              "    </tr>\n",
              "    <tr>\n",
              "      <th>2</th>\n",
              "      <td>원래 괜찮았는데 일주일안쪽으로 자택에서만 단말기에서 LTE라고 떠도 LTE 속도가...</td>\n",
              "      <td>데이터품질</td>\n",
              "    </tr>\n",
              "    <tr>\n",
              "      <th>3</th>\n",
              "      <td>안테나 2칸 데이터 접속 느림끊김  타사사용자는 양호  음성통화 정상   단말기...</td>\n",
              "      <td>데이터품질</td>\n",
              "    </tr>\n",
              "    <tr>\n",
              "      <th>4</th>\n",
              "      <td>일주일전부터  안테나 안뜨거나 3G 변경되며 음질 끊김 데이터도 잘 안됨   네...</td>\n",
              "      <td>데이터품질</td>\n",
              "    </tr>\n",
              "    <tr>\n",
              "      <th>...</th>\n",
              "      <td>...</td>\n",
              "      <td>...</td>\n",
              "    </tr>\n",
              "    <tr>\n",
              "      <th>105</th>\n",
              "      <td>여기서 30분 전부터 갑자기 통화가 안된다고 함  다른데로 이동은 못해봐서 다른곳은...</td>\n",
              "      <td>음성품질</td>\n",
              "    </tr>\n",
              "    <tr>\n",
              "      <th>106</th>\n",
              "      <td>집안에서도 절반정도 통화안되는내용으로 품질확인요청</td>\n",
              "      <td>음성품질</td>\n",
              "    </tr>\n",
              "    <tr>\n",
              "      <th>107</th>\n",
              "      <td>몇개월전부터  수신실패위치무관</td>\n",
              "      <td>음성품질</td>\n",
              "    </tr>\n",
              "    <tr>\n",
              "      <th>108</th>\n",
              "      <td>며칠전 자택내 수신실패  당일오전 댁내 통화도중 네트워크불안정 문구뜨며 음질끊김  ...</td>\n",
              "      <td>음성품질</td>\n",
              "    </tr>\n",
              "    <tr>\n",
              "      <th>109</th>\n",
              "      <td>어제부터 전화 수발신 실패 증상</td>\n",
              "      <td>음성품질</td>\n",
              "    </tr>\n",
              "  </tbody>\n",
              "</table>\n",
              "<p>110 rows × 2 columns</p>\n",
              "</div>"
            ],
            "text/plain": [
              "                                                  memo  label\n",
              "0                     자택과 직장에서 장소상관없이 음질 및 데이터 끊김 발생됨   데이터품질\n",
              "1                         실내외 왔다갔다하면 LTE와 5G번갈아 잡혀 불량   데이터품질\n",
              "2     원래 괜찮았는데 일주일안쪽으로 자택에서만 단말기에서 LTE라고 떠도 LTE 속도가...  데이터품질\n",
              "3      안테나 2칸 데이터 접속 느림끊김  타사사용자는 양호  음성통화 정상   단말기...  데이터품질\n",
              "4      일주일전부터  안테나 안뜨거나 3G 변경되며 음질 끊김 데이터도 잘 안됨   네...  데이터품질\n",
              "..                                                 ...    ...\n",
              "105  여기서 30분 전부터 갑자기 통화가 안된다고 함  다른데로 이동은 못해봐서 다른곳은...   음성품질\n",
              "106                      집안에서도 절반정도 통화안되는내용으로 품질확인요청     음성품질\n",
              "107                                 몇개월전부터  수신실패위치무관     음성품질\n",
              "108  며칠전 자택내 수신실패  당일오전 댁내 통화도중 네트워크불안정 문구뜨며 음질끊김  ...   음성품질\n",
              "109                                어제부터 전화 수발신 실패 증상     음성품질\n",
              "\n",
              "[110 rows x 2 columns]"
            ]
          },
          "metadata": {
            "tags": []
          },
          "execution_count": 62
        }
      ]
    },
    {
      "cell_type": "code",
      "metadata": {
        "id": "i94Cj48ysct0",
        "colab_type": "code",
        "colab": {
          "base_uri": "https://localhost:8080/",
          "height": 406
        },
        "outputId": "2dad9780-d7ba-46a1-ddeb-5344b8c61cd7"
      },
      "source": [
        "# 4. 용어 치환 (정규식)\n",
        "#    불용어(stopword) 제거 및 용어 치환 등에 활용합니다.\n",
        "#    예를들어, '3G'나 'LTE', '5G' 와 같은 단어들은 결국 유형을 분류하는 목적에서 보면 비슷한 의미이며, \n",
        "#    다양한 용어로 표현하기보단 단순하게 표현하는 것이 더 좋은 성능을 보일 수 있습니다.\n",
        "#    예시로 모두 LTE로 치환시켜 보겠습니다.\n",
        "\n",
        "pattern_ex = ['3G','5G']\n",
        "\n",
        "memos = list(vocs['memo']) # 메모만 불러와서\n",
        "for _ in range(len(memos)):\n",
        "  for pat_ex in pattern_ex:\n",
        "    memos[_] = re.sub(pat_ex,'LTE',memos[_]) \n",
        "\n",
        "vocs['memo'] = memos                   # vocs 의 memo 컬럼을 전처리한 memos로 대체\n",
        "vocs    "
      ],
      "execution_count": null,
      "outputs": [
        {
          "output_type": "execute_result",
          "data": {
            "text/html": [
              "<div>\n",
              "<style scoped>\n",
              "    .dataframe tbody tr th:only-of-type {\n",
              "        vertical-align: middle;\n",
              "    }\n",
              "\n",
              "    .dataframe tbody tr th {\n",
              "        vertical-align: top;\n",
              "    }\n",
              "\n",
              "    .dataframe thead th {\n",
              "        text-align: right;\n",
              "    }\n",
              "</style>\n",
              "<table border=\"1\" class=\"dataframe\">\n",
              "  <thead>\n",
              "    <tr style=\"text-align: right;\">\n",
              "      <th></th>\n",
              "      <th>memo</th>\n",
              "      <th>label</th>\n",
              "    </tr>\n",
              "  </thead>\n",
              "  <tbody>\n",
              "    <tr>\n",
              "      <th>0</th>\n",
              "      <td>자택과 직장에서 장소상관없이 음질 및 데이터 끊김 발생됨</td>\n",
              "      <td>데이터품질</td>\n",
              "    </tr>\n",
              "    <tr>\n",
              "      <th>1</th>\n",
              "      <td>실내외 왔다갔다하면 LTE와 LTE번갈아 잡혀 불량</td>\n",
              "      <td>데이터품질</td>\n",
              "    </tr>\n",
              "    <tr>\n",
              "      <th>2</th>\n",
              "      <td>원래 괜찮았는데 일주일안쪽으로 자택에서만 단말기에서 LTE라고 떠도 LTE 속도가...</td>\n",
              "      <td>데이터품질</td>\n",
              "    </tr>\n",
              "    <tr>\n",
              "      <th>3</th>\n",
              "      <td>안테나 2칸 데이터 접속 느림끊김  타사사용자는 양호  음성통화 정상   단말기...</td>\n",
              "      <td>데이터품질</td>\n",
              "    </tr>\n",
              "    <tr>\n",
              "      <th>4</th>\n",
              "      <td>일주일전부터  안테나 안뜨거나 LTE 변경되며 음질 끊김 데이터도 잘 안됨   ...</td>\n",
              "      <td>데이터품질</td>\n",
              "    </tr>\n",
              "    <tr>\n",
              "      <th>...</th>\n",
              "      <td>...</td>\n",
              "      <td>...</td>\n",
              "    </tr>\n",
              "    <tr>\n",
              "      <th>105</th>\n",
              "      <td>여기서 30분 전부터 갑자기 통화가 안된다고 함  다른데로 이동은 못해봐서 다른곳은...</td>\n",
              "      <td>음성품질</td>\n",
              "    </tr>\n",
              "    <tr>\n",
              "      <th>106</th>\n",
              "      <td>집안에서도 절반정도 통화안되는내용으로 품질확인요청</td>\n",
              "      <td>음성품질</td>\n",
              "    </tr>\n",
              "    <tr>\n",
              "      <th>107</th>\n",
              "      <td>몇개월전부터  수신실패위치무관</td>\n",
              "      <td>음성품질</td>\n",
              "    </tr>\n",
              "    <tr>\n",
              "      <th>108</th>\n",
              "      <td>며칠전 자택내 수신실패  당일오전 댁내 통화도중 네트워크불안정 문구뜨며 음질끊김  ...</td>\n",
              "      <td>음성품질</td>\n",
              "    </tr>\n",
              "    <tr>\n",
              "      <th>109</th>\n",
              "      <td>어제부터 전화 수발신 실패 증상</td>\n",
              "      <td>음성품질</td>\n",
              "    </tr>\n",
              "  </tbody>\n",
              "</table>\n",
              "<p>110 rows × 2 columns</p>\n",
              "</div>"
            ],
            "text/plain": [
              "                                                  memo  label\n",
              "0                     자택과 직장에서 장소상관없이 음질 및 데이터 끊김 발생됨   데이터품질\n",
              "1                        실내외 왔다갔다하면 LTE와 LTE번갈아 잡혀 불량   데이터품질\n",
              "2     원래 괜찮았는데 일주일안쪽으로 자택에서만 단말기에서 LTE라고 떠도 LTE 속도가...  데이터품질\n",
              "3      안테나 2칸 데이터 접속 느림끊김  타사사용자는 양호  음성통화 정상   단말기...  데이터품질\n",
              "4      일주일전부터  안테나 안뜨거나 LTE 변경되며 음질 끊김 데이터도 잘 안됨   ...  데이터품질\n",
              "..                                                 ...    ...\n",
              "105  여기서 30분 전부터 갑자기 통화가 안된다고 함  다른데로 이동은 못해봐서 다른곳은...   음성품질\n",
              "106                      집안에서도 절반정도 통화안되는내용으로 품질확인요청     음성품질\n",
              "107                                 몇개월전부터  수신실패위치무관     음성품질\n",
              "108  며칠전 자택내 수신실패  당일오전 댁내 통화도중 네트워크불안정 문구뜨며 음질끊김  ...   음성품질\n",
              "109                                어제부터 전화 수발신 실패 증상     음성품질\n",
              "\n",
              "[110 rows x 2 columns]"
            ]
          },
          "metadata": {
            "tags": []
          },
          "execution_count": 63
        }
      ]
    },
    {
      "cell_type": "code",
      "metadata": {
        "id": "uFTMiOvKwZA-",
        "colab_type": "code",
        "colab": {
          "base_uri": "https://localhost:8080/",
          "height": 406
        },
        "outputId": "eed3f336-9dd1-43fc-9a6d-435d022e61a8"
      },
      "source": [
        "# 5. label명 숫자 치환\n",
        "#    label명이 지금은 '데이터품질' 과 같은 한글인데요. 숫자로 바꿔주겠습니다.\n",
        "\n",
        "label_dict = {'데이터품질': 0, '영상품질':1, '음성품질':2}\n",
        "\n",
        "labels = list(vocs['label']) # 메모만 불러와서\n",
        "for _ in range(len(labels)):\n",
        "  labels[_] = label_dict[labels[_]]\n",
        "\n",
        "vocs['label'] = labels                   # vocs 의 label 컬럼을 전처리한 label로 대체\n",
        "vocs  "
      ],
      "execution_count": null,
      "outputs": [
        {
          "output_type": "execute_result",
          "data": {
            "text/html": [
              "<div>\n",
              "<style scoped>\n",
              "    .dataframe tbody tr th:only-of-type {\n",
              "        vertical-align: middle;\n",
              "    }\n",
              "\n",
              "    .dataframe tbody tr th {\n",
              "        vertical-align: top;\n",
              "    }\n",
              "\n",
              "    .dataframe thead th {\n",
              "        text-align: right;\n",
              "    }\n",
              "</style>\n",
              "<table border=\"1\" class=\"dataframe\">\n",
              "  <thead>\n",
              "    <tr style=\"text-align: right;\">\n",
              "      <th></th>\n",
              "      <th>memo</th>\n",
              "      <th>label</th>\n",
              "    </tr>\n",
              "  </thead>\n",
              "  <tbody>\n",
              "    <tr>\n",
              "      <th>0</th>\n",
              "      <td>자택과 직장에서 장소상관없이 음질 및 데이터 끊김 발생됨</td>\n",
              "      <td>0</td>\n",
              "    </tr>\n",
              "    <tr>\n",
              "      <th>1</th>\n",
              "      <td>실내외 왔다갔다하면 LTE와 LTE번갈아 잡혀 불량</td>\n",
              "      <td>0</td>\n",
              "    </tr>\n",
              "    <tr>\n",
              "      <th>2</th>\n",
              "      <td>원래 괜찮았는데 일주일안쪽으로 자택에서만 단말기에서 LTE라고 떠도 LTE 속도가...</td>\n",
              "      <td>0</td>\n",
              "    </tr>\n",
              "    <tr>\n",
              "      <th>3</th>\n",
              "      <td>안테나 2칸 데이터 접속 느림끊김  타사사용자는 양호  음성통화 정상   단말기...</td>\n",
              "      <td>0</td>\n",
              "    </tr>\n",
              "    <tr>\n",
              "      <th>4</th>\n",
              "      <td>일주일전부터  안테나 안뜨거나 LTE 변경되며 음질 끊김 데이터도 잘 안됨   ...</td>\n",
              "      <td>0</td>\n",
              "    </tr>\n",
              "    <tr>\n",
              "      <th>...</th>\n",
              "      <td>...</td>\n",
              "      <td>...</td>\n",
              "    </tr>\n",
              "    <tr>\n",
              "      <th>105</th>\n",
              "      <td>여기서 30분 전부터 갑자기 통화가 안된다고 함  다른데로 이동은 못해봐서 다른곳은...</td>\n",
              "      <td>2</td>\n",
              "    </tr>\n",
              "    <tr>\n",
              "      <th>106</th>\n",
              "      <td>집안에서도 절반정도 통화안되는내용으로 품질확인요청</td>\n",
              "      <td>2</td>\n",
              "    </tr>\n",
              "    <tr>\n",
              "      <th>107</th>\n",
              "      <td>몇개월전부터  수신실패위치무관</td>\n",
              "      <td>2</td>\n",
              "    </tr>\n",
              "    <tr>\n",
              "      <th>108</th>\n",
              "      <td>며칠전 자택내 수신실패  당일오전 댁내 통화도중 네트워크불안정 문구뜨며 음질끊김  ...</td>\n",
              "      <td>2</td>\n",
              "    </tr>\n",
              "    <tr>\n",
              "      <th>109</th>\n",
              "      <td>어제부터 전화 수발신 실패 증상</td>\n",
              "      <td>2</td>\n",
              "    </tr>\n",
              "  </tbody>\n",
              "</table>\n",
              "<p>110 rows × 2 columns</p>\n",
              "</div>"
            ],
            "text/plain": [
              "                                                  memo  label\n",
              "0                     자택과 직장에서 장소상관없이 음질 및 데이터 끊김 발생됨       0\n",
              "1                        실내외 왔다갔다하면 LTE와 LTE번갈아 잡혀 불량       0\n",
              "2     원래 괜찮았는데 일주일안쪽으로 자택에서만 단말기에서 LTE라고 떠도 LTE 속도가...      0\n",
              "3      안테나 2칸 데이터 접속 느림끊김  타사사용자는 양호  음성통화 정상   단말기...      0\n",
              "4      일주일전부터  안테나 안뜨거나 LTE 변경되며 음질 끊김 데이터도 잘 안됨   ...      0\n",
              "..                                                 ...    ...\n",
              "105  여기서 30분 전부터 갑자기 통화가 안된다고 함  다른데로 이동은 못해봐서 다른곳은...      2\n",
              "106                      집안에서도 절반정도 통화안되는내용으로 품질확인요청        2\n",
              "107                                 몇개월전부터  수신실패위치무관        2\n",
              "108  며칠전 자택내 수신실패  당일오전 댁내 통화도중 네트워크불안정 문구뜨며 음질끊김  ...      2\n",
              "109                                어제부터 전화 수발신 실패 증상        2\n",
              "\n",
              "[110 rows x 2 columns]"
            ]
          },
          "metadata": {
            "tags": []
          },
          "execution_count": 66
        }
      ]
    },
    {
      "cell_type": "code",
      "metadata": {
        "id": "7l4uRLZI9MYQ",
        "colab_type": "code",
        "colab": {
          "base_uri": "https://localhost:8080/",
          "height": 406
        },
        "outputId": "de02ec0c-5864-4116-dc6c-0b3789329226"
      },
      "source": [
        "# 6. Shuffle\n",
        "#    지금은 데이터가 레이블별로 정렬되어 있습니다.\n",
        "#    고른 학습을 위해 셔플을 해줍시다.\n",
        "\n",
        "vocs = vocs.sample(frac=1)  # 셔플\n",
        "vocs.reset_index(drop=True, inplace=True) # 셔플로 뒤죽박죽이 된 index를 reset해줍니다\n",
        "vocs"
      ],
      "execution_count": null,
      "outputs": [
        {
          "output_type": "execute_result",
          "data": {
            "text/html": [
              "<div>\n",
              "<style scoped>\n",
              "    .dataframe tbody tr th:only-of-type {\n",
              "        vertical-align: middle;\n",
              "    }\n",
              "\n",
              "    .dataframe tbody tr th {\n",
              "        vertical-align: top;\n",
              "    }\n",
              "\n",
              "    .dataframe thead th {\n",
              "        text-align: right;\n",
              "    }\n",
              "</style>\n",
              "<table border=\"1\" class=\"dataframe\">\n",
              "  <thead>\n",
              "    <tr style=\"text-align: right;\">\n",
              "      <th></th>\n",
              "      <th>memo</th>\n",
              "      <th>label</th>\n",
              "    </tr>\n",
              "  </thead>\n",
              "  <tbody>\n",
              "    <tr>\n",
              "      <th>0</th>\n",
              "      <td>번호이동후부터  위데이터도 버퍼링이 걸리면서 잘안됨</td>\n",
              "      <td>0</td>\n",
              "    </tr>\n",
              "    <tr>\n",
              "      <th>1</th>\n",
              "      <td>집에서 창가에 붙어야지만 통화가됨</td>\n",
              "      <td>2</td>\n",
              "    </tr>\n",
              "    <tr>\n",
              "      <th>2</th>\n",
              "      <td>오늘 아침부터 갑자기 데이터 이용 불가 문의  와이파이 끔  데이터 켜져있음 경고</td>\n",
              "      <td>0</td>\n",
              "    </tr>\n",
              "    <tr>\n",
              "      <th>3</th>\n",
              "      <td>갑자기 며칠전부터 영상통화 시 말소리가 안들린다고 함  해당주소지 품질 및 특이사...</td>\n",
              "      <td>1</td>\n",
              "    </tr>\n",
              "    <tr>\n",
              "      <th>4</th>\n",
              "      <td>데이터 접속 불량  안테나 감도가 2개정도 한달전부터  위치무관</td>\n",
              "      <td>0</td>\n",
              "    </tr>\n",
              "    <tr>\n",
              "      <th>...</th>\n",
              "      <td>...</td>\n",
              "      <td>...</td>\n",
              "    </tr>\n",
              "    <tr>\n",
              "      <th>105</th>\n",
              "      <td>몇개월전부터  수신실패위치무관</td>\n",
              "      <td>2</td>\n",
              "    </tr>\n",
              "    <tr>\n",
              "      <th>106</th>\n",
              "      <td>10일전부터 통화권이탈 단말점검 권유 후 종료</td>\n",
              "      <td>2</td>\n",
              "    </tr>\n",
              "    <tr>\n",
              "      <th>107</th>\n",
              "      <td>영상통화 불량 상대방은 양호한데 고객님화면은 깨짐 열흘전부터</td>\n",
              "      <td>1</td>\n",
              "    </tr>\n",
              "    <tr>\n",
              "      <th>108</th>\n",
              "      <td>기변후 데이터끊김현상</td>\n",
              "      <td>0</td>\n",
              "    </tr>\n",
              "    <tr>\n",
              "      <th>109</th>\n",
              "      <td>23주전부터 전화 수신이 되었다 안되었다함 같은 단말기 구입해서 유심을 넣어서 ...</td>\n",
              "      <td>2</td>\n",
              "    </tr>\n",
              "  </tbody>\n",
              "</table>\n",
              "<p>110 rows × 2 columns</p>\n",
              "</div>"
            ],
            "text/plain": [
              "                                                  memo  label\n",
              "0                        번호이동후부터  위데이터도 버퍼링이 걸리면서 잘안됨       0\n",
              "1                                  집에서 창가에 붙어야지만 통화가됨       2\n",
              "2        오늘 아침부터 갑자기 데이터 이용 불가 문의  와이파이 끔  데이터 켜져있음 경고      0\n",
              "3     갑자기 며칠전부터 영상통화 시 말소리가 안들린다고 함  해당주소지 품질 및 특이사...      1\n",
              "4                데이터 접속 불량  안테나 감도가 2개정도 한달전부터  위치무관        0\n",
              "..                                                 ...    ...\n",
              "105                                 몇개월전부터  수신실패위치무관        2\n",
              "106                          10일전부터 통화권이탈 단말점검 권유 후 종료      2\n",
              "107                  영상통화 불량 상대방은 양호한데 고객님화면은 깨짐 열흘전부터      1\n",
              "108                                       기변후 데이터끊김현상       0\n",
              "109    23주전부터 전화 수신이 되었다 안되었다함 같은 단말기 구입해서 유심을 넣어서 ...      2\n",
              "\n",
              "[110 rows x 2 columns]"
            ]
          },
          "metadata": {
            "tags": []
          },
          "execution_count": 73
        }
      ]
    },
    {
      "cell_type": "markdown",
      "metadata": {
        "id": "gOwS0Gjsx6tA",
        "colab_type": "text"
      },
      "source": [
        "# **데이터 분포 확인 / Visualise**"
      ]
    },
    {
      "cell_type": "code",
      "metadata": {
        "id": "kQorpgNxyH3y",
        "colab_type": "code",
        "colab": {
          "base_uri": "https://localhost:8080/",
          "height": 402
        },
        "outputId": "46da75dc-ade5-418b-b891-aa3bb6ce85d2"
      },
      "source": [
        "# 1. 레이블별 분포 확인 \n",
        "#    간단히 pyplot을 활용해 분포 시각화를 해봅니다.\n",
        "\n",
        "fig = plt.figure(figsize = (8,6))     \n",
        "vocs.groupby('label').memo.count().plot.bar(ylim=0)"
      ],
      "execution_count": null,
      "outputs": [
        {
          "output_type": "execute_result",
          "data": {
            "text/plain": [
              "<matplotlib.axes._subplots.AxesSubplot at 0x7f2025d1c668>"
            ]
          },
          "metadata": {
            "tags": []
          },
          "execution_count": 67
        },
        {
          "output_type": "display_data",
          "data": {
            "image/png": "[encoded data removed]",
            "text/plain": [
              "<Figure size 576x432 with 1 Axes>"
            ]
          },
          "metadata": {
            "tags": [],
            "needs_background": "light"
          }
        }
      ]
    },
    {
      "cell_type": "code",
      "metadata": {
        "id": "2uOdRJfjyH6k",
        "colab_type": "code",
        "colab": {
          "base_uri": "https://localhost:8080/",
          "height": 314
        },
        "outputId": "45029054-af01-4cf7-8bbc-812c657e0039"
      },
      "source": [
        "# 2. 메모의 길이 시각화\n",
        "#    간단히 pyplot을 활용해 메모의 길이에 대해 알아봅시다.\n",
        "\n",
        "print('VoC memo 최대 길이 :',max(len(l) for l in vocs.memo))\n",
        "print('VoC memo 평균 길이 :',sum(map(len, vocs.memo))/len(vocs.memo))\n",
        "plt.hist([len(s) for s in vocs.memo], bins=50)\n",
        "plt.xlabel('length of voc memos')\n",
        "plt.ylabel('number of vocs')\n",
        "plt.show()"
      ],
      "execution_count": null,
      "outputs": [
        {
          "output_type": "stream",
          "text": [
            "VoC memo 최대 길이 : 165\n",
            "VoC memo 평균 길이 : 49.663636363636364\n"
          ],
          "name": "stdout"
        },
        {
          "output_type": "display_data",
          "data": {
            "image/png": "[encoded data removed]",
            "text/plain": [
              "<Figure size 432x288 with 1 Axes>"
            ]
          },
          "metadata": {
            "tags": [],
            "needs_background": "light"
          }
        }
      ]
    },
    {
      "cell_type": "code",
      "metadata": {
        "id": "r0Gdyjv9yH9f",
        "colab_type": "code",
        "colab": {
          "base_uri": "https://localhost:8080/",
          "height": 34
        },
        "outputId": "4550649e-8d67-4a16-959e-ae1540e1c4d2"
      },
      "source": [
        "# 2-2. <참고> 메모의 특정 길이 이하의 비율은 얼마나 될까?\n",
        "#      특정 길이 이하인 비율을 통해, 너무 아웃라이어인 데이터를\n",
        "#      발라내는데 활용할 수 있습니다.\n",
        "\n",
        "#      위 그래프를 통해 길이 100 미만의 비율이 궁금하면 아래와 같이 확인하고,\n",
        "#      4.5% 정도의 아웃라이어는 활용하지 않는 등의 처리를 할 수 있습니다.\n",
        "\n",
        "def below_threshold_len(max_len, nested_list):\n",
        "  cnt = 0\n",
        "  for s in nested_list:\n",
        "    if(len(s) <= max_len):\n",
        "        cnt = cnt + 1\n",
        "  print('전체 데이터 중 길이가 %s 이하인 데이터의 비율: %s'%(max_len, (cnt / len(nested_list))*100))\n",
        "\n",
        "max_len = 100  # 위 그래프 보면서 임의로 값 넣어보면서 비율 확인\n",
        "below_threshold_len(max_len, vocs.memo)"
      ],
      "execution_count": null,
      "outputs": [
        {
          "output_type": "stream",
          "text": [
            "전체 데이터 중 길이가 100 이하인 데이터의 비율: 95.45454545454545\n"
          ],
          "name": "stdout"
        }
      ]
    },
    {
      "cell_type": "code",
      "metadata": {
        "id": "L7cFiesu9GEF",
        "colab_type": "code",
        "colab": {}
      },
      "source": [
        ""
      ],
      "execution_count": null,
      "outputs": []
    }
  ]
}