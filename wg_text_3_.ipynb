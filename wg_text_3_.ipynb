{
  "nbformat": 4,
  "nbformat_minor": 0,
  "metadata": {
    "colab": {
      "name": "wg_text_3_.ipynb",
      "provenance": [],
      "collapsed_sections": [],
      "mount_file_id": "1uoL3qRFE4QE7zxCA3NZj2qhGn8zvqEmG",
      "authorship_tag": "ABX9TyO8iiJuH3ZvIpsTo/4nHrgE",
      "include_colab_link": true
    },
    "kernelspec": {
      "name": "python3",
      "display_name": "Python 3"
    }
  },
  "cells": [
    {
      "cell_type": "markdown",
      "metadata": {
        "id": "view-in-github",
        "colab_type": "text"
      },
      "source": [
        "<a href=\"https://colab.research.google.com/github/guard1000/SKT_AI_WG/blob/master/wg_text_3_.ipynb\" target=\"_parent\"><img src=\"https://colab.research.google.com/assets/colab-badge.svg\" alt=\"Open In Colab\"/></a>"
      ]
    },
    {
      "cell_type": "markdown",
      "metadata": {
        "id": "997VBbVSNlch",
        "colab_type": "text"
      },
      "source": [
        "# **텍스트 분류 예시**"
      ]
    },
    {
      "cell_type": "markdown",
      "metadata": {
        "id": "Is5A1LiapXhw",
        "colab_type": "text"
      },
      "source": [
        "지난 3주간 함께한 VoC sample 데이터를 가지고 분류 예시를 만들어 봅니다.\n",
        "\n",
        "데이터 수가 매우 적어 학습 성능은 좋지 못하나, 이런 흐름이구나를 이해하는데 도움이 되길 바랍니다."
      ]
    },
    {
      "cell_type": "markdown",
      "metadata": {
        "id": "KZSUEeC7p3EG",
        "colab_type": "text"
      },
      "source": [
        "**[목차]**\n",
        "\n",
        "1. 데이터 로드\n",
        "\n",
        "2. 데이터 전처리\n",
        "\n",
        "3. 학습용, 테스트용 분리 및 데이터 분포 확인\n",
        "\n",
        "4. 형태소 분석 Tokenizing\n",
        "\n",
        "5. 단어사전 생성\n",
        "\n",
        "6. 인덱싱 및 패딩\n",
        "\n",
        "7. Keras를 활용한 간단한 모델 구현 및 적용\n"
      ]
    },
    {
      "cell_type": "code",
      "metadata": {
        "id": "QPmOo3HDUv7e",
        "colab_type": "code",
        "colab": {
          "base_uri": "https://localhost:8080/",
          "height": 623
        },
        "outputId": "69b5e296-5d7d-438f-965b-161fc7e3eb05"
      },
      "source": [
        "# 형태소 분석에 활용할 konlpy 설치\n",
        "!pip install konlpy"
      ],
      "execution_count": null,
      "outputs": [
        {
          "output_type": "stream",
          "text": [
            "Collecting konlpy\n",
            "\u001b[?25l  Downloading https://files.pythonhosted.org/packages/85/0e/f385566fec837c0b83f216b2da65db9997b35dd675e107752005b7d392b1/konlpy-0.5.2-py2.py3-none-any.whl (19.4MB)\n",
            "\u001b[K     |████████████████████████████████| 19.4MB 59.8MB/s \n",
            "\u001b[?25hRequirement already satisfied: numpy>=1.6 in /usr/local/lib/python3.6/dist-packages (from konlpy) (1.18.5)\n",
            "Collecting tweepy>=3.7.0\n",
            "  Downloading https://files.pythonhosted.org/packages/bb/7c/99d51f80f3b77b107ebae2634108717362c059a41384a1810d13e2429a81/tweepy-3.9.0-py2.py3-none-any.whl\n",
            "Collecting colorama\n",
            "  Downloading https://files.pythonhosted.org/packages/c9/dc/45cdef1b4d119eb96316b3117e6d5708a08029992b2fee2c143c7a0a5cc5/colorama-0.4.3-py2.py3-none-any.whl\n",
            "Collecting JPype1>=0.7.0\n",
            "\u001b[?25l  Downloading https://files.pythonhosted.org/packages/8b/f7/a368401e630f0e390dd0e62c39fb928e5b23741b53c2360ee7d376660927/JPype1-1.0.2-cp36-cp36m-manylinux2010_x86_64.whl (3.8MB)\n",
            "\u001b[K     |████████████████████████████████| 3.8MB 47.5MB/s \n",
            "\u001b[?25hCollecting beautifulsoup4==4.6.0\n",
            "\u001b[?25l  Downloading https://files.pythonhosted.org/packages/9e/d4/10f46e5cfac773e22707237bfcd51bbffeaf0a576b0a847ec7ab15bd7ace/beautifulsoup4-4.6.0-py3-none-any.whl (86kB)\n",
            "\u001b[K     |████████████████████████████████| 92kB 9.1MB/s \n",
            "\u001b[?25hRequirement already satisfied: lxml>=4.1.0 in /usr/local/lib/python3.6/dist-packages (from konlpy) (4.2.6)\n",
            "Requirement already satisfied: requests-oauthlib>=0.7.0 in /usr/local/lib/python3.6/dist-packages (from tweepy>=3.7.0->konlpy) (1.3.0)\n",
            "Requirement already satisfied: six>=1.10.0 in /usr/local/lib/python3.6/dist-packages (from tweepy>=3.7.0->konlpy) (1.15.0)\n",
            "Requirement already satisfied: requests[socks]>=2.11.1 in /usr/local/lib/python3.6/dist-packages (from tweepy>=3.7.0->konlpy) (2.23.0)\n",
            "Requirement already satisfied: typing-extensions; python_version < \"3.8\" in /usr/local/lib/python3.6/dist-packages (from JPype1>=0.7.0->konlpy) (3.7.4.2)\n",
            "Requirement already satisfied: oauthlib>=3.0.0 in /usr/local/lib/python3.6/dist-packages (from requests-oauthlib>=0.7.0->tweepy>=3.7.0->konlpy) (3.1.0)\n",
            "Requirement already satisfied: idna<3,>=2.5 in /usr/local/lib/python3.6/dist-packages (from requests[socks]>=2.11.1->tweepy>=3.7.0->konlpy) (2.10)\n",
            "Requirement already satisfied: certifi>=2017.4.17 in /usr/local/lib/python3.6/dist-packages (from requests[socks]>=2.11.1->tweepy>=3.7.0->konlpy) (2020.6.20)\n",
            "Requirement already satisfied: urllib3!=1.25.0,!=1.25.1,<1.26,>=1.21.1 in /usr/local/lib/python3.6/dist-packages (from requests[socks]>=2.11.1->tweepy>=3.7.0->konlpy) (1.24.3)\n",
            "Requirement already satisfied: chardet<4,>=3.0.2 in /usr/local/lib/python3.6/dist-packages (from requests[socks]>=2.11.1->tweepy>=3.7.0->konlpy) (3.0.4)\n",
            "Requirement already satisfied: PySocks!=1.5.7,>=1.5.6; extra == \"socks\" in /usr/local/lib/python3.6/dist-packages (from requests[socks]>=2.11.1->tweepy>=3.7.0->konlpy) (1.7.1)\n",
            "Installing collected packages: tweepy, colorama, JPype1, beautifulsoup4, konlpy\n",
            "  Found existing installation: tweepy 3.6.0\n",
            "    Uninstalling tweepy-3.6.0:\n",
            "      Successfully uninstalled tweepy-3.6.0\n",
            "  Found existing installation: beautifulsoup4 4.6.3\n",
            "    Uninstalling beautifulsoup4-4.6.3:\n",
            "      Successfully uninstalled beautifulsoup4-4.6.3\n",
            "Successfully installed JPype1-1.0.2 beautifulsoup4-4.6.0 colorama-0.4.3 konlpy-0.5.2 tweepy-3.9.0\n"
          ],
          "name": "stdout"
        }
      ]
    },
    {
      "cell_type": "code",
      "metadata": {
        "id": "TARcj1e8ekpL",
        "colab_type": "code",
        "colab": {}
      },
      "source": [
        "import pandas as pd\n",
        "import re\n",
        "import matplotlib.pyplot as plt\n",
        "import numpy as np\n",
        "\n",
        "from konlpy.tag import Okt\n",
        "\n",
        "from tensorflow.keras.preprocessing.text import Tokenizer\n",
        "from tensorflow.keras.preprocessing.sequence import pad_sequences"
      ],
      "execution_count": null,
      "outputs": []
    },
    {
      "cell_type": "code",
      "metadata": {
        "id": "zS1jzQHhfVIw",
        "colab_type": "code",
        "colab": {
          "base_uri": "https://localhost:8080/",
          "height": 406
        },
        "outputId": "1b676cc9-2471-4b99-8693-1179effd45c8"
      },
      "source": [
        "# 엑셀파일 읽어오는 코드. 아래 주소는 엑셀파일의 주소로 변경하세요!\n",
        "#  -- ex) 엑셀파일이 같은 폴더에 있다면, pd.read_excel(\"wg_data.xlsx\", sheet_name='Sheet1') \n",
        "vocs = pd.read_excel(\"/content/drive/My Drive/data/wg_data.xlsx\", sheet_name='Sheet1')\n",
        "vocs"
      ],
      "execution_count": null,
      "outputs": [
        {
          "output_type": "execute_result",
          "data": {
            "text/html": [
              "<div>\n",
              "<style scoped>\n",
              "    .dataframe tbody tr th:only-of-type {\n",
              "        vertical-align: middle;\n",
              "    }\n",
              "\n",
              "    .dataframe tbody tr th {\n",
              "        vertical-align: top;\n",
              "    }\n",
              "\n",
              "    .dataframe thead th {\n",
              "        text-align: right;\n",
              "    }\n",
              "</style>\n",
              "<table border=\"1\" class=\"dataframe\">\n",
              "  <thead>\n",
              "    <tr style=\"text-align: right;\">\n",
              "      <th></th>\n",
              "      <th>memo</th>\n",
              "      <th>label</th>\n",
              "    </tr>\n",
              "  </thead>\n",
              "  <tbody>\n",
              "    <tr>\n",
              "      <th>0</th>\n",
              "      <td>자택과 직장에서 장소상관없이 음질%^&amp;^&amp; 및 데이터 끊김 발생됨.</td>\n",
              "      <td>데이터품질</td>\n",
              "    </tr>\n",
              "    <tr>\n",
              "      <th>1</th>\n",
              "      <td>[원클릭-양호] -실내외 왔다갔다하면 LTE와 5G번갈아 잡혀 불량</td>\n",
              "      <td>데이터품질</td>\n",
              "    </tr>\n",
              "    <tr>\n",
              "      <th>2</th>\n",
              "      <td>[원클릭-문의 ] 현기 1. 상세증상: 원래 괜찮았는데 일@#@@@@_+주일안쪽으로...</td>\n",
              "      <td>데이터품질</td>\n",
              "    </tr>\n",
              "    <tr>\n",
              "      <th>3</th>\n",
              "      <td>' [CE진단-양호]  시설공급 1. 상세증상:  안테나 2칸 데이터 접속 느림,끊...</td>\n",
              "      <td>데이터품질</td>\n",
              "    </tr>\n",
              "    <tr>\n",
              "      <th>4</th>\n",
              "      <td>[원클릭-문의]  -일주%^&amp;^&amp;일전부터  -안테나 안뜨거나 3G 변경되며 음질 끊...</td>\n",
              "      <td>데이터품질</td>\n",
              "    </tr>\n",
              "    <tr>\n",
              "      <th>...</th>\n",
              "      <td>...</td>\n",
              "      <td>...</td>\n",
              "    </tr>\n",
              "    <tr>\n",
              "      <th>105</th>\n",
              "      <td>여기서 30분 전부터 갑자기 통화가 ########$안된다고 함  다른데로 이동은 ...</td>\n",
              "      <td>음성품질</td>\n",
              "    </tr>\n",
              "    <tr>\n",
              "      <th>106</th>\n",
              "      <td>CE진단결과 양호 (W- 품질개선가능여부) 1. 상세증상 : 집안에서도 절반정도 통...</td>\n",
              "      <td>음성품질</td>\n",
              "    </tr>\n",
              "    <tr>\n",
              "      <th>107</th>\n",
              "      <td>(C- 특이사항) 1. 상세증상 : - 몇개월전부터/  수신실패/위치무관/  2....</td>\n",
              "      <td>음성품질</td>\n",
              "    </tr>\n",
              "    <tr>\n",
              "      <th>108</th>\n",
              "      <td>며칠전 자택내 수신실패  당일오전 댁내 통화도중 네트워크불안정 문구뜨며 음질끊김  ...</td>\n",
              "      <td>음성품질</td>\n",
              "    </tr>\n",
              "    <tr>\n",
              "      <th>109</th>\n",
              "      <td>어제부터 전화 수발신 실패 증상</td>\n",
              "      <td>음성품질</td>\n",
              "    </tr>\n",
              "  </tbody>\n",
              "</table>\n",
              "<p>110 rows × 2 columns</p>\n",
              "</div>"
            ],
            "text/plain": [
              "                                                  memo  label\n",
              "0               자택과 직장에서 장소상관없이 음질%^&^& 및 데이터 끊김 발생됨.   데이터품질\n",
              "1               [원클릭-양호] -실내외 왔다갔다하면 LTE와 5G번갈아 잡혀 불량   데이터품질\n",
              "2    [원클릭-문의 ] 현기 1. 상세증상: 원래 괜찮았는데 일@#@@@@_+주일안쪽으로...  데이터품질\n",
              "3    ' [CE진단-양호]  시설공급 1. 상세증상:  안테나 2칸 데이터 접속 느림,끊...  데이터품질\n",
              "4    [원클릭-문의]  -일주%^&^&일전부터  -안테나 안뜨거나 3G 변경되며 음질 끊...  데이터품질\n",
              "..                                                 ...    ...\n",
              "105  여기서 30분 전부터 갑자기 통화가 ########$안된다고 함  다른데로 이동은 ...   음성품질\n",
              "106  CE진단결과 양호 (W- 품질개선가능여부) 1. 상세증상 : 집안에서도 절반정도 통...   음성품질\n",
              "107   (C- 특이사항) 1. 상세증상 : - 몇개월전부터/  수신실패/위치무관/  2....   음성품질\n",
              "108  며칠전 자택내 수신실패  당일오전 댁내 통화도중 네트워크불안정 문구뜨며 음질끊김  ...   음성품질\n",
              "109                                어제부터 전화 수발신 실패 증상     음성품질\n",
              "\n",
              "[110 rows x 2 columns]"
            ]
          },
          "metadata": {
            "tags": []
          },
          "execution_count": 4
        }
      ]
    },
    {
      "cell_type": "markdown",
      "metadata": {
        "id": "Ad4u7nFih7HM",
        "colab_type": "text"
      },
      "source": [
        "# **전처리 예시**"
      ]
    },
    {
      "cell_type": "code",
      "metadata": {
        "id": "CJlsjzNzf7vL",
        "colab_type": "code",
        "colab": {
          "base_uri": "https://localhost:8080/",
          "height": 406
        },
        "outputId": "10f0c985-f46d-484d-b58b-6e9b9f2e1614"
      },
      "source": [
        "# 1. 개행문자 제거 (Slicing)\n",
        "#    memo 들을 보면 [원클릭-양호] [CE진단-양호] 와 같이 시작하는 녀석들이 존재합니다\n",
        "#    이 친구들은 실제 메모 내용에 별 의미 없을테니 제거해줍시다.\n",
        "\n",
        "memos = list(vocs['memo']) # 메모만 불러와서\n",
        "for _ in range(len(memos)):\n",
        "  if memos[_][:3].find('[') != -1: # 문장의 앞 3 문자 중 '[' 이 존재한다면\n",
        "    start =  memos[_].find(']')      # 문장의 ']' 위치를 새로운 시작점으로 변경 \n",
        "    memos[_] = memos[_][start+1:]    # 텍스트 슬라이싱\n",
        "\n",
        "vocs['memo'] = memos                 # vocs 의 memo 컬럼을 전처리한 memos로 대체\n",
        "vocs"
      ],
      "execution_count": null,
      "outputs": [
        {
          "output_type": "execute_result",
          "data": {
            "text/html": [
              "<div>\n",
              "<style scoped>\n",
              "    .dataframe tbody tr th:only-of-type {\n",
              "        vertical-align: middle;\n",
              "    }\n",
              "\n",
              "    .dataframe tbody tr th {\n",
              "        vertical-align: top;\n",
              "    }\n",
              "\n",
              "    .dataframe thead th {\n",
              "        text-align: right;\n",
              "    }\n",
              "</style>\n",
              "<table border=\"1\" class=\"dataframe\">\n",
              "  <thead>\n",
              "    <tr style=\"text-align: right;\">\n",
              "      <th></th>\n",
              "      <th>memo</th>\n",
              "      <th>label</th>\n",
              "    </tr>\n",
              "  </thead>\n",
              "  <tbody>\n",
              "    <tr>\n",
              "      <th>0</th>\n",
              "      <td>자택과 직장에서 장소상관없이 음질%^&amp;^&amp; 및 데이터 끊김 발생됨.</td>\n",
              "      <td>데이터품질</td>\n",
              "    </tr>\n",
              "    <tr>\n",
              "      <th>1</th>\n",
              "      <td>-실내외 왔다갔다하면 LTE와 5G번갈아 잡혀 불량</td>\n",
              "      <td>데이터품질</td>\n",
              "    </tr>\n",
              "    <tr>\n",
              "      <th>2</th>\n",
              "      <td>현기 1. 상세증상: 원래 괜찮았는데 일@#@@@@_+주일안쪽으로 자택에서@#@@...</td>\n",
              "      <td>데이터품질</td>\n",
              "    </tr>\n",
              "    <tr>\n",
              "      <th>3</th>\n",
              "      <td>시설공급 1. 상세증상:  안테나 2칸 데이터 접속 느림,끊김  타사사용자는 양...</td>\n",
              "      <td>데이터품질</td>\n",
              "    </tr>\n",
              "    <tr>\n",
              "      <th>4</th>\n",
              "      <td>-일주%^&amp;^&amp;일전부터  -안테나 안뜨거나 3G 변경되며 음질 끊김 -데이터도 ...</td>\n",
              "      <td>데이터품질</td>\n",
              "    </tr>\n",
              "    <tr>\n",
              "      <th>...</th>\n",
              "      <td>...</td>\n",
              "      <td>...</td>\n",
              "    </tr>\n",
              "    <tr>\n",
              "      <th>105</th>\n",
              "      <td>여기서 30분 전부터 갑자기 통화가 ########$안된다고 함  다른데로 이동은 ...</td>\n",
              "      <td>음성품질</td>\n",
              "    </tr>\n",
              "    <tr>\n",
              "      <th>106</th>\n",
              "      <td>CE진단결과 양호 (W- 품질개선가능여부) 1. 상세증상 : 집안에서도 절반정도 통...</td>\n",
              "      <td>음성품질</td>\n",
              "    </tr>\n",
              "    <tr>\n",
              "      <th>107</th>\n",
              "      <td>(C- 특이사항) 1. 상세증상 : - 몇개월전부터/  수신실패/위치무관/  2....</td>\n",
              "      <td>음성품질</td>\n",
              "    </tr>\n",
              "    <tr>\n",
              "      <th>108</th>\n",
              "      <td>며칠전 자택내 수신실패  당일오전 댁내 통화도중 네트워크불안정 문구뜨며 음질끊김  ...</td>\n",
              "      <td>음성품질</td>\n",
              "    </tr>\n",
              "    <tr>\n",
              "      <th>109</th>\n",
              "      <td>어제부터 전화 수발신 실패 증상</td>\n",
              "      <td>음성품질</td>\n",
              "    </tr>\n",
              "  </tbody>\n",
              "</table>\n",
              "<p>110 rows × 2 columns</p>\n",
              "</div>"
            ],
            "text/plain": [
              "                                                  memo  label\n",
              "0               자택과 직장에서 장소상관없이 음질%^&^& 및 데이터 끊김 발생됨.   데이터품질\n",
              "1                        -실내외 왔다갔다하면 LTE와 5G번갈아 잡혀 불량   데이터품질\n",
              "2     현기 1. 상세증상: 원래 괜찮았는데 일@#@@@@_+주일안쪽으로 자택에서@#@@...  데이터품질\n",
              "3      시설공급 1. 상세증상:  안테나 2칸 데이터 접속 느림,끊김  타사사용자는 양...  데이터품질\n",
              "4      -일주%^&^&일전부터  -안테나 안뜨거나 3G 변경되며 음질 끊김 -데이터도 ...  데이터품질\n",
              "..                                                 ...    ...\n",
              "105  여기서 30분 전부터 갑자기 통화가 ########$안된다고 함  다른데로 이동은 ...   음성품질\n",
              "106  CE진단결과 양호 (W- 품질개선가능여부) 1. 상세증상 : 집안에서도 절반정도 통...   음성품질\n",
              "107   (C- 특이사항) 1. 상세증상 : - 몇개월전부터/  수신실패/위치무관/  2....   음성품질\n",
              "108  며칠전 자택내 수신실패  당일오전 댁내 통화도중 네트워크불안정 문구뜨며 음질끊김  ...   음성품질\n",
              "109                                어제부터 전화 수발신 실패 증상     음성품질\n",
              "\n",
              "[110 rows x 2 columns]"
            ]
          },
          "metadata": {
            "tags": []
          },
          "execution_count": 5
        }
      ]
    },
    {
      "cell_type": "code",
      "metadata": {
        "id": "POm8us5Ylg5O",
        "colab_type": "code",
        "colab": {
          "base_uri": "https://localhost:8080/",
          "height": 406
        },
        "outputId": "c83a13d3-83d6-4e15-b488-d81240b47cd9"
      },
      "source": [
        "# 2. 상세증상 추출 (Slicing)\n",
        "#    memo 들을 보면 '1.상세증상': ~  와 같은 포맷에 맞춘 메모들이 심심찮게 보입니다.\n",
        "#    상담유형을 분류하는데 상세증상이 핵심이고, 다른 내용은 noise 이므로 이런 포맷의 메모는\n",
        "#    상세증상에 해당하는 내용만 추출해 줍시다.\n",
        "\n",
        "memos = list(vocs['memo']) # 메모만 불러와서\n",
        "for _ in range(len(memos)):\n",
        "  if memos[_].find('상세증상') != -1:         # 문장에 '상세증상' 이 포함되 있다면\n",
        "    start =  memos[_].find('상세증상')        # 문장의 '상세증상' 위치를 새로운 시작점으로 변경\n",
        "    end = memos[_].find('2.')                   # 보통 위 포맷이 1. 상세증상 ~~ 2. ~~~ 이런 유형이기에... 2 전까지! \n",
        "    memos[_] = memos[_][start+5:end]      # 텍스트 슬라이싱\n",
        "\n",
        "vocs['memo'] = memos                   # vocs 의 memo 컬럼을 전처리한 memos로 대체\n",
        "vocs"
      ],
      "execution_count": null,
      "outputs": [
        {
          "output_type": "execute_result",
          "data": {
            "text/html": [
              "<div>\n",
              "<style scoped>\n",
              "    .dataframe tbody tr th:only-of-type {\n",
              "        vertical-align: middle;\n",
              "    }\n",
              "\n",
              "    .dataframe tbody tr th {\n",
              "        vertical-align: top;\n",
              "    }\n",
              "\n",
              "    .dataframe thead th {\n",
              "        text-align: right;\n",
              "    }\n",
              "</style>\n",
              "<table border=\"1\" class=\"dataframe\">\n",
              "  <thead>\n",
              "    <tr style=\"text-align: right;\">\n",
              "      <th></th>\n",
              "      <th>memo</th>\n",
              "      <th>label</th>\n",
              "    </tr>\n",
              "  </thead>\n",
              "  <tbody>\n",
              "    <tr>\n",
              "      <th>0</th>\n",
              "      <td>자택과 직장에서 장소상관없이 음질%^&amp;^&amp; 및 데이터 끊김 발생됨.</td>\n",
              "      <td>데이터품질</td>\n",
              "    </tr>\n",
              "    <tr>\n",
              "      <th>1</th>\n",
              "      <td>-실내외 왔다갔다하면 LTE와 5G번갈아 잡혀 불량</td>\n",
              "      <td>데이터품질</td>\n",
              "    </tr>\n",
              "    <tr>\n",
              "      <th>2</th>\n",
              "      <td>원래 괜찮았는데 일@#@@@@_+주일안쪽으로 자택에서@#@@@@_+만 단말기에서 ...</td>\n",
              "      <td>데이터품질</td>\n",
              "    </tr>\n",
              "    <tr>\n",
              "      <th>3</th>\n",
              "      <td>안테나 2칸 데이터 접속 느림,끊김  타사사용자는 양호  음성통화 정상   단말...</td>\n",
              "      <td>데이터품질</td>\n",
              "    </tr>\n",
              "    <tr>\n",
              "      <th>4</th>\n",
              "      <td>-일주%^&amp;^&amp;일전부터  -안테나 안뜨거나 3G 변경되며 음질 끊김 -데이터도 ...</td>\n",
              "      <td>데이터품질</td>\n",
              "    </tr>\n",
              "    <tr>\n",
              "      <th>...</th>\n",
              "      <td>...</td>\n",
              "      <td>...</td>\n",
              "    </tr>\n",
              "    <tr>\n",
              "      <th>105</th>\n",
              "      <td>여기서 30분 전부터 갑자기 통화가 ########$안된다고 함  다른데로 이동은 ...</td>\n",
              "      <td>음성품질</td>\n",
              "    </tr>\n",
              "    <tr>\n",
              "      <th>106</th>\n",
              "      <td>: 집안에서도 절반정도 통화안되는내용으로 품질확인요청</td>\n",
              "      <td>음성품질</td>\n",
              "    </tr>\n",
              "    <tr>\n",
              "      <th>107</th>\n",
              "      <td>: - 몇개월전부터/  수신실패/위치무관/</td>\n",
              "      <td>음성품질</td>\n",
              "    </tr>\n",
              "    <tr>\n",
              "      <th>108</th>\n",
              "      <td>며칠전 자택내 수신실패  당일오전 댁내 통화도중 네트워크불안정 문구뜨며 음질끊김  ...</td>\n",
              "      <td>음성품질</td>\n",
              "    </tr>\n",
              "    <tr>\n",
              "      <th>109</th>\n",
              "      <td>어제부터 전화 수발신 실패 증상</td>\n",
              "      <td>음성품질</td>\n",
              "    </tr>\n",
              "  </tbody>\n",
              "</table>\n",
              "<p>110 rows × 2 columns</p>\n",
              "</div>"
            ],
            "text/plain": [
              "                                                  memo  label\n",
              "0               자택과 직장에서 장소상관없이 음질%^&^& 및 데이터 끊김 발생됨.   데이터품질\n",
              "1                        -실내외 왔다갔다하면 LTE와 5G번갈아 잡혀 불량   데이터품질\n",
              "2     원래 괜찮았는데 일@#@@@@_+주일안쪽으로 자택에서@#@@@@_+만 단말기에서 ...  데이터품질\n",
              "3      안테나 2칸 데이터 접속 느림,끊김  타사사용자는 양호  음성통화 정상   단말...  데이터품질\n",
              "4      -일주%^&^&일전부터  -안테나 안뜨거나 3G 변경되며 음질 끊김 -데이터도 ...  데이터품질\n",
              "..                                                 ...    ...\n",
              "105  여기서 30분 전부터 갑자기 통화가 ########$안된다고 함  다른데로 이동은 ...   음성품질\n",
              "106                    : 집안에서도 절반정도 통화안되는내용으로 품질확인요청     음성품질\n",
              "107                          : - 몇개월전부터/  수신실패/위치무관/     음성품질\n",
              "108  며칠전 자택내 수신실패  당일오전 댁내 통화도중 네트워크불안정 문구뜨며 음질끊김  ...   음성품질\n",
              "109                                어제부터 전화 수발신 실패 증상     음성품질\n",
              "\n",
              "[110 rows x 2 columns]"
            ]
          },
          "metadata": {
            "tags": []
          },
          "execution_count": 6
        }
      ]
    },
    {
      "cell_type": "code",
      "metadata": {
        "id": "dfjbBKEmnRUp",
        "colab_type": "code",
        "colab": {
          "base_uri": "https://localhost:8080/",
          "height": 406
        },
        "outputId": "30323ce1-9459-48bb-aa5a-b5808caa0e75"
      },
      "source": [
        "# 3. 특수문자 제거 (정규식)\n",
        "#    memo 들을 보면 '@#@@@@_+', '########$'와 같은 특수문자 noise가 보입니다. \n",
        "#    특수문자는 메모 내용을 파악하는데 noise이므로, 정규식을 활용해 정제해 줍시다\n",
        "\n",
        "pattern_ex = '[~!@#$%^&*()_+-/:;]' # 이 외에도 지울 대상 변경가능!\n",
        "\n",
        "memos = list(vocs['memo']) # 메모만 불러와서\n",
        "for _ in range(len(memos)):\n",
        "  memos[_] = re.sub(pattern_ex,'',memos[_])  \n",
        "\n",
        "vocs['memo'] = memos                   # vocs 의 memo 컬럼을 전처리한 memos로 대체\n",
        "vocs"
      ],
      "execution_count": null,
      "outputs": [
        {
          "output_type": "execute_result",
          "data": {
            "text/html": [
              "<div>\n",
              "<style scoped>\n",
              "    .dataframe tbody tr th:only-of-type {\n",
              "        vertical-align: middle;\n",
              "    }\n",
              "\n",
              "    .dataframe tbody tr th {\n",
              "        vertical-align: top;\n",
              "    }\n",
              "\n",
              "    .dataframe thead th {\n",
              "        text-align: right;\n",
              "    }\n",
              "</style>\n",
              "<table border=\"1\" class=\"dataframe\">\n",
              "  <thead>\n",
              "    <tr style=\"text-align: right;\">\n",
              "      <th></th>\n",
              "      <th>memo</th>\n",
              "      <th>label</th>\n",
              "    </tr>\n",
              "  </thead>\n",
              "  <tbody>\n",
              "    <tr>\n",
              "      <th>0</th>\n",
              "      <td>자택과 직장에서 장소상관없이 음질 및 데이터 끊김 발생됨</td>\n",
              "      <td>데이터품질</td>\n",
              "    </tr>\n",
              "    <tr>\n",
              "      <th>1</th>\n",
              "      <td>실내외 왔다갔다하면 LTE와 5G번갈아 잡혀 불량</td>\n",
              "      <td>데이터품질</td>\n",
              "    </tr>\n",
              "    <tr>\n",
              "      <th>2</th>\n",
              "      <td>원래 괜찮았는데 일주일안쪽으로 자택에서만 단말기에서 LTE라고 떠도 LTE 속도가...</td>\n",
              "      <td>데이터품질</td>\n",
              "    </tr>\n",
              "    <tr>\n",
              "      <th>3</th>\n",
              "      <td>안테나 2칸 데이터 접속 느림끊김  타사사용자는 양호  음성통화 정상   단말기...</td>\n",
              "      <td>데이터품질</td>\n",
              "    </tr>\n",
              "    <tr>\n",
              "      <th>4</th>\n",
              "      <td>일주일전부터  안테나 안뜨거나 3G 변경되며 음질 끊김 데이터도 잘 안됨   네...</td>\n",
              "      <td>데이터품질</td>\n",
              "    </tr>\n",
              "    <tr>\n",
              "      <th>...</th>\n",
              "      <td>...</td>\n",
              "      <td>...</td>\n",
              "    </tr>\n",
              "    <tr>\n",
              "      <th>105</th>\n",
              "      <td>여기서 30분 전부터 갑자기 통화가 안된다고 함  다른데로 이동은 못해봐서 다른곳은...</td>\n",
              "      <td>음성품질</td>\n",
              "    </tr>\n",
              "    <tr>\n",
              "      <th>106</th>\n",
              "      <td>집안에서도 절반정도 통화안되는내용으로 품질확인요청</td>\n",
              "      <td>음성품질</td>\n",
              "    </tr>\n",
              "    <tr>\n",
              "      <th>107</th>\n",
              "      <td>몇개월전부터  수신실패위치무관</td>\n",
              "      <td>음성품질</td>\n",
              "    </tr>\n",
              "    <tr>\n",
              "      <th>108</th>\n",
              "      <td>며칠전 자택내 수신실패  당일오전 댁내 통화도중 네트워크불안정 문구뜨며 음질끊김  ...</td>\n",
              "      <td>음성품질</td>\n",
              "    </tr>\n",
              "    <tr>\n",
              "      <th>109</th>\n",
              "      <td>어제부터 전화 수발신 실패 증상</td>\n",
              "      <td>음성품질</td>\n",
              "    </tr>\n",
              "  </tbody>\n",
              "</table>\n",
              "<p>110 rows × 2 columns</p>\n",
              "</div>"
            ],
            "text/plain": [
              "                                                  memo  label\n",
              "0                     자택과 직장에서 장소상관없이 음질 및 데이터 끊김 발생됨   데이터품질\n",
              "1                         실내외 왔다갔다하면 LTE와 5G번갈아 잡혀 불량   데이터품질\n",
              "2     원래 괜찮았는데 일주일안쪽으로 자택에서만 단말기에서 LTE라고 떠도 LTE 속도가...  데이터품질\n",
              "3      안테나 2칸 데이터 접속 느림끊김  타사사용자는 양호  음성통화 정상   단말기...  데이터품질\n",
              "4      일주일전부터  안테나 안뜨거나 3G 변경되며 음질 끊김 데이터도 잘 안됨   네...  데이터품질\n",
              "..                                                 ...    ...\n",
              "105  여기서 30분 전부터 갑자기 통화가 안된다고 함  다른데로 이동은 못해봐서 다른곳은...   음성품질\n",
              "106                      집안에서도 절반정도 통화안되는내용으로 품질확인요청     음성품질\n",
              "107                                 몇개월전부터  수신실패위치무관     음성품질\n",
              "108  며칠전 자택내 수신실패  당일오전 댁내 통화도중 네트워크불안정 문구뜨며 음질끊김  ...   음성품질\n",
              "109                                어제부터 전화 수발신 실패 증상     음성품질\n",
              "\n",
              "[110 rows x 2 columns]"
            ]
          },
          "metadata": {
            "tags": []
          },
          "execution_count": 7
        }
      ]
    },
    {
      "cell_type": "code",
      "metadata": {
        "id": "i94Cj48ysct0",
        "colab_type": "code",
        "colab": {
          "base_uri": "https://localhost:8080/",
          "height": 406
        },
        "outputId": "a0f9399e-d670-439e-81ef-810cc04b2e0f"
      },
      "source": [
        "# 4. 용어 치환 (정규식)\n",
        "#    불용어(stopword) 제거 및 용어 치환 등에 활용합니다.\n",
        "#    예를들어, '3G'나 'LTE', '5G' 와 같은 단어들은 결국 유형을 분류하는 목적에서 보면 비슷한 의미이며, \n",
        "#    다양한 용어로 표현하기보단 단순하게 표현하는 것이 더 좋은 성능을 보일 수 있습니다.\n",
        "#    예시로 모두 LTE로 치환시켜 보겠습니다.\n",
        "\n",
        "pattern_ex = ['3G','5G']\n",
        "\n",
        "memos = list(vocs['memo']) # 메모만 불러와서\n",
        "for _ in range(len(memos)):\n",
        "  for pat_ex in pattern_ex:\n",
        "    memos[_] = re.sub(pat_ex,'LTE',memos[_]) \n",
        "\n",
        "vocs['memo'] = memos                   # vocs 의 memo 컬럼을 전처리한 memos로 대체\n",
        "vocs    "
      ],
      "execution_count": null,
      "outputs": [
        {
          "output_type": "execute_result",
          "data": {
            "text/html": [
              "<div>\n",
              "<style scoped>\n",
              "    .dataframe tbody tr th:only-of-type {\n",
              "        vertical-align: middle;\n",
              "    }\n",
              "\n",
              "    .dataframe tbody tr th {\n",
              "        vertical-align: top;\n",
              "    }\n",
              "\n",
              "    .dataframe thead th {\n",
              "        text-align: right;\n",
              "    }\n",
              "</style>\n",
              "<table border=\"1\" class=\"dataframe\">\n",
              "  <thead>\n",
              "    <tr style=\"text-align: right;\">\n",
              "      <th></th>\n",
              "      <th>memo</th>\n",
              "      <th>label</th>\n",
              "    </tr>\n",
              "  </thead>\n",
              "  <tbody>\n",
              "    <tr>\n",
              "      <th>0</th>\n",
              "      <td>자택과 직장에서 장소상관없이 음질 및 데이터 끊김 발생됨</td>\n",
              "      <td>데이터품질</td>\n",
              "    </tr>\n",
              "    <tr>\n",
              "      <th>1</th>\n",
              "      <td>실내외 왔다갔다하면 LTE와 LTE번갈아 잡혀 불량</td>\n",
              "      <td>데이터품질</td>\n",
              "    </tr>\n",
              "    <tr>\n",
              "      <th>2</th>\n",
              "      <td>원래 괜찮았는데 일주일안쪽으로 자택에서만 단말기에서 LTE라고 떠도 LTE 속도가...</td>\n",
              "      <td>데이터품질</td>\n",
              "    </tr>\n",
              "    <tr>\n",
              "      <th>3</th>\n",
              "      <td>안테나 2칸 데이터 접속 느림끊김  타사사용자는 양호  음성통화 정상   단말기...</td>\n",
              "      <td>데이터품질</td>\n",
              "    </tr>\n",
              "    <tr>\n",
              "      <th>4</th>\n",
              "      <td>일주일전부터  안테나 안뜨거나 LTE 변경되며 음질 끊김 데이터도 잘 안됨   ...</td>\n",
              "      <td>데이터품질</td>\n",
              "    </tr>\n",
              "    <tr>\n",
              "      <th>...</th>\n",
              "      <td>...</td>\n",
              "      <td>...</td>\n",
              "    </tr>\n",
              "    <tr>\n",
              "      <th>105</th>\n",
              "      <td>여기서 30분 전부터 갑자기 통화가 안된다고 함  다른데로 이동은 못해봐서 다른곳은...</td>\n",
              "      <td>음성품질</td>\n",
              "    </tr>\n",
              "    <tr>\n",
              "      <th>106</th>\n",
              "      <td>집안에서도 절반정도 통화안되는내용으로 품질확인요청</td>\n",
              "      <td>음성품질</td>\n",
              "    </tr>\n",
              "    <tr>\n",
              "      <th>107</th>\n",
              "      <td>몇개월전부터  수신실패위치무관</td>\n",
              "      <td>음성품질</td>\n",
              "    </tr>\n",
              "    <tr>\n",
              "      <th>108</th>\n",
              "      <td>며칠전 자택내 수신실패  당일오전 댁내 통화도중 네트워크불안정 문구뜨며 음질끊김  ...</td>\n",
              "      <td>음성품질</td>\n",
              "    </tr>\n",
              "    <tr>\n",
              "      <th>109</th>\n",
              "      <td>어제부터 전화 수발신 실패 증상</td>\n",
              "      <td>음성품질</td>\n",
              "    </tr>\n",
              "  </tbody>\n",
              "</table>\n",
              "<p>110 rows × 2 columns</p>\n",
              "</div>"
            ],
            "text/plain": [
              "                                                  memo  label\n",
              "0                     자택과 직장에서 장소상관없이 음질 및 데이터 끊김 발생됨   데이터품질\n",
              "1                        실내외 왔다갔다하면 LTE와 LTE번갈아 잡혀 불량   데이터품질\n",
              "2     원래 괜찮았는데 일주일안쪽으로 자택에서만 단말기에서 LTE라고 떠도 LTE 속도가...  데이터품질\n",
              "3      안테나 2칸 데이터 접속 느림끊김  타사사용자는 양호  음성통화 정상   단말기...  데이터품질\n",
              "4      일주일전부터  안테나 안뜨거나 LTE 변경되며 음질 끊김 데이터도 잘 안됨   ...  데이터품질\n",
              "..                                                 ...    ...\n",
              "105  여기서 30분 전부터 갑자기 통화가 안된다고 함  다른데로 이동은 못해봐서 다른곳은...   음성품질\n",
              "106                      집안에서도 절반정도 통화안되는내용으로 품질확인요청     음성품질\n",
              "107                                 몇개월전부터  수신실패위치무관     음성품질\n",
              "108  며칠전 자택내 수신실패  당일오전 댁내 통화도중 네트워크불안정 문구뜨며 음질끊김  ...   음성품질\n",
              "109                                어제부터 전화 수발신 실패 증상     음성품질\n",
              "\n",
              "[110 rows x 2 columns]"
            ]
          },
          "metadata": {
            "tags": []
          },
          "execution_count": 8
        }
      ]
    },
    {
      "cell_type": "code",
      "metadata": {
        "id": "7l4uRLZI9MYQ",
        "colab_type": "code",
        "colab": {
          "base_uri": "https://localhost:8080/",
          "height": 406
        },
        "outputId": "8dfe5837-032f-454d-82ed-3fc050eafe92"
      },
      "source": [
        "# Shuffle\n",
        "vocs = vocs.sample(frac=1)  # 셔플\n",
        "vocs.reset_index(drop=True, inplace=True) # 셔플로 뒤죽박죽이 된 index를 reset해줍니다\n",
        "vocs"
      ],
      "execution_count": null,
      "outputs": [
        {
          "output_type": "execute_result",
          "data": {
            "text/html": [
              "<div>\n",
              "<style scoped>\n",
              "    .dataframe tbody tr th:only-of-type {\n",
              "        vertical-align: middle;\n",
              "    }\n",
              "\n",
              "    .dataframe tbody tr th {\n",
              "        vertical-align: top;\n",
              "    }\n",
              "\n",
              "    .dataframe thead th {\n",
              "        text-align: right;\n",
              "    }\n",
              "</style>\n",
              "<table border=\"1\" class=\"dataframe\">\n",
              "  <thead>\n",
              "    <tr style=\"text-align: right;\">\n",
              "      <th></th>\n",
              "      <th>memo</th>\n",
              "      <th>label</th>\n",
              "    </tr>\n",
              "  </thead>\n",
              "  <tbody>\n",
              "    <tr>\n",
              "      <th>0</th>\n",
              "      <td>오늘 갑자기 다른 SKT 폰은 정상이나 이 폰만 통화권 이탈 유심재장착 해도 동일 ...</td>\n",
              "      <td>음성품질</td>\n",
              "    </tr>\n",
              "    <tr>\n",
              "      <th>1</th>\n",
              "      <td>데이터Nate불량  인터넷접속불량</td>\n",
              "      <td>데이터품질</td>\n",
              "    </tr>\n",
              "    <tr>\n",
              "      <th>2</th>\n",
              "      <td>평소에 가끔 증상있고 정상이용중 오늘 갑자기 데이터 접속이 안될정도로 느리다고함 ...</td>\n",
              "      <td>데이터품질</td>\n",
              "    </tr>\n",
              "    <tr>\n",
              "      <th>3</th>\n",
              "      <td>오늘 오전부터 해당 주민센터 내에 있는 모든 SK고객들 핸드폰이 긴급전화만 된다고...</td>\n",
              "      <td>음성품질</td>\n",
              "    </tr>\n",
              "    <tr>\n",
              "      <th>4</th>\n",
              "      <td>10일전부터 통화권이탈 단말점검 권유 후 종료</td>\n",
              "      <td>음성품질</td>\n",
              "    </tr>\n",
              "    <tr>\n",
              "      <th>...</th>\n",
              "      <td>...</td>\n",
              "      <td>...</td>\n",
              "    </tr>\n",
              "    <tr>\n",
              "      <th>105</th>\n",
              "      <td>안테나 2칸 데이터 접속 느림끊김  타사사용자는 양호  음성통화 정상   단말기...</td>\n",
              "      <td>데이터품질</td>\n",
              "    </tr>\n",
              "    <tr>\n",
              "      <th>106</th>\n",
              "      <td>정상이용중 두세달전부터 데이터 연결이 되다 안되다가 함 LTE LTE 어떤 데이터...</td>\n",
              "      <td>데이터품질</td>\n",
              "    </tr>\n",
              "    <tr>\n",
              "      <th>107</th>\n",
              "      <td>기기변경 후 자택에서 영상통화 이용불가 음성정상</td>\n",
              "      <td>영상품질</td>\n",
              "    </tr>\n",
              "    <tr>\n",
              "      <th>108</th>\n",
              "      <td>23개월됨 음성정상 영상통화안됨 내방안내 하신다고하심 종료</td>\n",
              "      <td>영상품질</td>\n",
              "    </tr>\n",
              "    <tr>\n",
              "      <th>109</th>\n",
              "      <td>어제부터 해당지역 일대에서 발수신연결실패</td>\n",
              "      <td>음성품질</td>\n",
              "    </tr>\n",
              "  </tbody>\n",
              "</table>\n",
              "<p>110 rows × 2 columns</p>\n",
              "</div>"
            ],
            "text/plain": [
              "                                                  memo  label\n",
              "0    오늘 갑자기 다른 SKT 폰은 정상이나 이 폰만 통화권 이탈 유심재장착 해도 동일 ...   음성품질\n",
              "1                                  데이터Nate불량  인터넷접속불량   데이터품질\n",
              "2     평소에 가끔 증상있고 정상이용중 오늘 갑자기 데이터 접속이 안될정도로 느리다고함 ...  데이터품질\n",
              "3     오늘 오전부터 해당 주민센터 내에 있는 모든 SK고객들 핸드폰이 긴급전화만 된다고...   음성품질\n",
              "4                            10일전부터 통화권이탈 단말점검 권유 후 종료   음성품질\n",
              "..                                                 ...    ...\n",
              "105    안테나 2칸 데이터 접속 느림끊김  타사사용자는 양호  음성통화 정상   단말기...  데이터품질\n",
              "106   정상이용중 두세달전부터 데이터 연결이 되다 안되다가 함 LTE LTE 어떤 데이터...  데이터품질\n",
              "107                        기기변경 후 자택에서 영상통화 이용불가 음성정상    영상품질\n",
              "108                   23개월됨 음성정상 영상통화안됨 내방안내 하신다고하심 종료   영상품질\n",
              "109                           어제부터 해당지역 일대에서 발수신연결실패     음성품질\n",
              "\n",
              "[110 rows x 2 columns]"
            ]
          },
          "metadata": {
            "tags": []
          },
          "execution_count": 9
        }
      ]
    },
    {
      "cell_type": "markdown",
      "metadata": {
        "id": "y3eIkfv0Yzky",
        "colab_type": "text"
      },
      "source": [
        "\n",
        "\n",
        "**Train, Test set 분리**"
      ]
    },
    {
      "cell_type": "code",
      "metadata": {
        "id": "8eL8u4WnYsTV",
        "colab_type": "code",
        "colab": {
          "base_uri": "https://localhost:8080/",
          "height": 414
        },
        "outputId": "57764ae4-379c-437a-c9ff-7a4b36e1b59f"
      },
      "source": [
        "# 20개로 test_data 생성\n",
        "test_data = vocs[:20]\n",
        "print(test_data.shape)\n",
        "\n",
        "# 90개로 train_data 생성\n",
        "train_data = vocs[20:]\n",
        "train_data.reset_index(drop=True, inplace=True) \n",
        "print(train_data.shape)\n",
        "\n",
        "display(train_data.head())\n",
        "display(test_data.head())"
      ],
      "execution_count": null,
      "outputs": [
        {
          "output_type": "stream",
          "text": [
            "(20, 2)\n",
            "(90, 2)\n"
          ],
          "name": "stdout"
        },
        {
          "output_type": "display_data",
          "data": {
            "text/html": [
              "<div>\n",
              "<style scoped>\n",
              "    .dataframe tbody tr th:only-of-type {\n",
              "        vertical-align: middle;\n",
              "    }\n",
              "\n",
              "    .dataframe tbody tr th {\n",
              "        vertical-align: top;\n",
              "    }\n",
              "\n",
              "    .dataframe thead th {\n",
              "        text-align: right;\n",
              "    }\n",
              "</style>\n",
              "<table border=\"1\" class=\"dataframe\">\n",
              "  <thead>\n",
              "    <tr style=\"text-align: right;\">\n",
              "      <th></th>\n",
              "      <th>memo</th>\n",
              "      <th>label</th>\n",
              "    </tr>\n",
              "  </thead>\n",
              "  <tbody>\n",
              "    <tr>\n",
              "      <th>0</th>\n",
              "      <td>몇일전 소프트웨어 업데이트 후부터 데이터 느림</td>\n",
              "      <td>데이터품질</td>\n",
              "    </tr>\n",
              "    <tr>\n",
              "      <th>1</th>\n",
              "      <td>데이터 접속 안되어문의 WIFI OFF후 사용안내</td>\n",
              "      <td>데이터품질</td>\n",
              "    </tr>\n",
              "    <tr>\n",
              "      <th>2</th>\n",
              "      <td>장소무관으로 몇일전부터 영상통화가 안된다고 함어플로 하는 통화도 안된다고함</td>\n",
              "      <td>영상품질</td>\n",
              "    </tr>\n",
              "    <tr>\n",
              "      <th>3</th>\n",
              "      <td>'발신은되나 수신안됨 문자 발수신은 정상이라고함 같은장소 다른SK고객은 정상임 전원...</td>\n",
              "      <td>음성품질</td>\n",
              "    </tr>\n",
              "    <tr>\n",
              "      <th>4</th>\n",
              "      <td>현기지국  어제부터  데이터 LTE  LTE 모두 접속불가 통화 정상  건물내 3...</td>\n",
              "      <td>데이터품질</td>\n",
              "    </tr>\n",
              "  </tbody>\n",
              "</table>\n",
              "</div>"
            ],
            "text/plain": [
              "                                                memo  label\n",
              "0                          몇일전 소프트웨어 업데이트 후부터 데이터 느림  데이터품질\n",
              "1                        데이터 접속 안되어문의 WIFI OFF후 사용안내  데이터품질\n",
              "2          장소무관으로 몇일전부터 영상통화가 안된다고 함어플로 하는 통화도 안된다고함   영상품질\n",
              "3  '발신은되나 수신안됨 문자 발수신은 정상이라고함 같은장소 다른SK고객은 정상임 전원...   음성품질\n",
              "4   현기지국  어제부터  데이터 LTE  LTE 모두 접속불가 통화 정상  건물내 3...  데이터품질"
            ]
          },
          "metadata": {
            "tags": []
          }
        },
        {
          "output_type": "display_data",
          "data": {
            "text/html": [
              "<div>\n",
              "<style scoped>\n",
              "    .dataframe tbody tr th:only-of-type {\n",
              "        vertical-align: middle;\n",
              "    }\n",
              "\n",
              "    .dataframe tbody tr th {\n",
              "        vertical-align: top;\n",
              "    }\n",
              "\n",
              "    .dataframe thead th {\n",
              "        text-align: right;\n",
              "    }\n",
              "</style>\n",
              "<table border=\"1\" class=\"dataframe\">\n",
              "  <thead>\n",
              "    <tr style=\"text-align: right;\">\n",
              "      <th></th>\n",
              "      <th>memo</th>\n",
              "      <th>label</th>\n",
              "    </tr>\n",
              "  </thead>\n",
              "  <tbody>\n",
              "    <tr>\n",
              "      <th>0</th>\n",
              "      <td>오늘 갑자기 다른 SKT 폰은 정상이나 이 폰만 통화권 이탈 유심재장착 해도 동일 ...</td>\n",
              "      <td>음성품질</td>\n",
              "    </tr>\n",
              "    <tr>\n",
              "      <th>1</th>\n",
              "      <td>데이터Nate불량  인터넷접속불량</td>\n",
              "      <td>데이터품질</td>\n",
              "    </tr>\n",
              "    <tr>\n",
              "      <th>2</th>\n",
              "      <td>평소에 가끔 증상있고 정상이용중 오늘 갑자기 데이터 접속이 안될정도로 느리다고함 ...</td>\n",
              "      <td>데이터품질</td>\n",
              "    </tr>\n",
              "    <tr>\n",
              "      <th>3</th>\n",
              "      <td>오늘 오전부터 해당 주민센터 내에 있는 모든 SK고객들 핸드폰이 긴급전화만 된다고...</td>\n",
              "      <td>음성품질</td>\n",
              "    </tr>\n",
              "    <tr>\n",
              "      <th>4</th>\n",
              "      <td>10일전부터 통화권이탈 단말점검 권유 후 종료</td>\n",
              "      <td>음성품질</td>\n",
              "    </tr>\n",
              "  </tbody>\n",
              "</table>\n",
              "</div>"
            ],
            "text/plain": [
              "                                                memo  label\n",
              "0  오늘 갑자기 다른 SKT 폰은 정상이나 이 폰만 통화권 이탈 유심재장착 해도 동일 ...   음성품질\n",
              "1                                데이터Nate불량  인터넷접속불량   데이터품질\n",
              "2   평소에 가끔 증상있고 정상이용중 오늘 갑자기 데이터 접속이 안될정도로 느리다고함 ...  데이터품질\n",
              "3   오늘 오전부터 해당 주민센터 내에 있는 모든 SK고객들 핸드폰이 긴급전화만 된다고...   음성품질\n",
              "4                          10일전부터 통화권이탈 단말점검 권유 후 종료   음성품질"
            ]
          },
          "metadata": {
            "tags": []
          }
        }
      ]
    },
    {
      "cell_type": "code",
      "metadata": {
        "id": "24TjBXYOZloJ",
        "colab_type": "code",
        "colab": {
          "base_uri": "https://localhost:8080/",
          "height": 1000
        },
        "outputId": "049c54fa-faf1-410a-d89c-49f75df1e02a"
      },
      "source": [
        "import matplotlib.pyplot as plt\n",
        "fig = plt.figure(figsize = (8,6))\n",
        "test_data.groupby('label').memo.count().plot.bar(ylim=0)"
      ],
      "execution_count": null,
      "outputs": [
        {
          "output_type": "execute_result",
          "data": {
            "text/plain": [
              "<matplotlib.axes._subplots.AxesSubplot at 0x7fed054a6d68>"
            ]
          },
          "metadata": {
            "tags": []
          },
          "execution_count": 11
        },
        {
          "output_type": "stream",
          "text": [
            "/usr/local/lib/python3.6/dist-packages/matplotlib/backends/backend_agg.py:214: RuntimeWarning: Glyph 45936 missing from current font.\n",
            "  font.set_text(s, 0.0, flags=flags)\n",
            "/usr/local/lib/python3.6/dist-packages/matplotlib/backends/backend_agg.py:214: RuntimeWarning: Glyph 51060 missing from current font.\n",
            "  font.set_text(s, 0.0, flags=flags)\n",
            "/usr/local/lib/python3.6/dist-packages/matplotlib/backends/backend_agg.py:214: RuntimeWarning: Glyph 53552 missing from current font.\n",
            "  font.set_text(s, 0.0, flags=flags)\n",
            "/usr/local/lib/python3.6/dist-packages/matplotlib/backends/backend_agg.py:214: RuntimeWarning: Glyph 54408 missing from current font.\n",
            "  font.set_text(s, 0.0, flags=flags)\n",
            "/usr/local/lib/python3.6/dist-packages/matplotlib/backends/backend_agg.py:214: RuntimeWarning: Glyph 51656 missing from current font.\n",
            "  font.set_text(s, 0.0, flags=flags)\n",
            "/usr/local/lib/python3.6/dist-packages/matplotlib/backends/backend_agg.py:214: RuntimeWarning: Glyph 50689 missing from current font.\n",
            "  font.set_text(s, 0.0, flags=flags)\n",
            "/usr/local/lib/python3.6/dist-packages/matplotlib/backends/backend_agg.py:214: RuntimeWarning: Glyph 49345 missing from current font.\n",
            "  font.set_text(s, 0.0, flags=flags)\n",
            "/usr/local/lib/python3.6/dist-packages/matplotlib/backends/backend_agg.py:214: RuntimeWarning: Glyph 51020 missing from current font.\n",
            "  font.set_text(s, 0.0, flags=flags)\n",
            "/usr/local/lib/python3.6/dist-packages/matplotlib/backends/backend_agg.py:214: RuntimeWarning: Glyph 49457 missing from current font.\n",
            "  font.set_text(s, 0.0, flags=flags)\n",
            "/usr/local/lib/python3.6/dist-packages/matplotlib/backends/backend_agg.py:183: RuntimeWarning: Glyph 45936 missing from current font.\n",
            "  font.set_text(s, 0, flags=flags)\n",
            "/usr/local/lib/python3.6/dist-packages/matplotlib/backends/backend_agg.py:183: RuntimeWarning: Glyph 51060 missing from current font.\n",
            "  font.set_text(s, 0, flags=flags)\n",
            "/usr/local/lib/python3.6/dist-packages/matplotlib/backends/backend_agg.py:183: RuntimeWarning: Glyph 53552 missing from current font.\n",
            "  font.set_text(s, 0, flags=flags)\n",
            "/usr/local/lib/python3.6/dist-packages/matplotlib/backends/backend_agg.py:183: RuntimeWarning: Glyph 54408 missing from current font.\n",
            "  font.set_text(s, 0, flags=flags)\n",
            "/usr/local/lib/python3.6/dist-packages/matplotlib/backends/backend_agg.py:183: RuntimeWarning: Glyph 51656 missing from current font.\n",
            "  font.set_text(s, 0, flags=flags)\n",
            "/usr/local/lib/python3.6/dist-packages/matplotlib/backends/backend_agg.py:183: RuntimeWarning: Glyph 50689 missing from current font.\n",
            "  font.set_text(s, 0, flags=flags)\n",
            "/usr/local/lib/python3.6/dist-packages/matplotlib/backends/backend_agg.py:183: RuntimeWarning: Glyph 49345 missing from current font.\n",
            "  font.set_text(s, 0, flags=flags)\n",
            "/usr/local/lib/python3.6/dist-packages/matplotlib/backends/backend_agg.py:183: RuntimeWarning: Glyph 51020 missing from current font.\n",
            "  font.set_text(s, 0, flags=flags)\n",
            "/usr/local/lib/python3.6/dist-packages/matplotlib/backends/backend_agg.py:183: RuntimeWarning: Glyph 49457 missing from current font.\n",
            "  font.set_text(s, 0, flags=flags)\n"
          ],
          "name": "stderr"
        },
        {
          "output_type": "display_data",
          "data": {
            "image/png": "[encoded data removed]",
            "text/plain": [
              "<Figure size 576x432 with 1 Axes>"
            ]
          },
          "metadata": {
            "tags": [],
            "needs_background": "light"
          }
        }
      ]
    },
    {
      "cell_type": "code",
      "metadata": {
        "id": "7t8zbotJZ_Sn",
        "colab_type": "code",
        "colab": {
          "base_uri": "https://localhost:8080/",
          "height": 197
        },
        "outputId": "a54febe6-1f33-4ae0-92ee-70579efe177b"
      },
      "source": [
        "# 형태소 분석\n",
        "okt = Okt()\n",
        "stopwords = ['의','기자', '에','와','한','하다']\n",
        "\n",
        "X_train = []\n",
        "X_test = []\n",
        "\n",
        "# X_train 90개, X_test 20개\n",
        "for i in range(len(train_data) + len(test_data)):\n",
        "  sentence = okt.pos(vocs.iloc[i].memo, norm=True, stem=True)\n",
        "  temp = []\n",
        "  temp_embedding = []\n",
        "  all_temp = []\n",
        "  for k in range(len(sentence)):\n",
        "    temp_embedding.append(sentence[k][0])\n",
        "\n",
        "    #if sentence[k][1] not in [\"Josa\", \"Eomi\", \"Punctuation\", \"Suffix\"] and sentence[k][0] not in stopwords:  \n",
        "    if sentence[k][1] in [\"Noun\", \"Verb\"] and sentence[k][0] not in stopwords:  # 명사와 동사만 써보고 싶을 경우\n",
        "      temp.append(sentence[k][0]) #+ '/' + sentence[k][1])\n",
        "  all_temp.append(temp)\n",
        "\n",
        "  if i < len(train_data):\n",
        "    train_data.iloc[i].memo = ' '.join(all_temp[0])\n",
        "    X_train.append(all_temp[0])\n",
        "  else:\n",
        "    test_data.iloc[i-len(train_data)].memo = ' '.join(all_temp[0])\n",
        "    X_test.append(all_temp[0])\n",
        "\n",
        "test_data.head()"
      ],
      "execution_count": null,
      "outputs": [
        {
          "output_type": "execute_result",
          "data": {
            "text/html": [
              "<div>\n",
              "<style scoped>\n",
              "    .dataframe tbody tr th:only-of-type {\n",
              "        vertical-align: middle;\n",
              "    }\n",
              "\n",
              "    .dataframe tbody tr th {\n",
              "        vertical-align: top;\n",
              "    }\n",
              "\n",
              "    .dataframe thead th {\n",
              "        text-align: right;\n",
              "    }\n",
              "</style>\n",
              "<table border=\"1\" class=\"dataframe\">\n",
              "  <thead>\n",
              "    <tr style=\"text-align: right;\">\n",
              "      <th></th>\n",
              "      <th>memo</th>\n",
              "      <th>label</th>\n",
              "    </tr>\n",
              "  </thead>\n",
              "  <tbody>\n",
              "    <tr>\n",
              "      <th>0</th>\n",
              "      <td>영통 음성 정상 초기</td>\n",
              "      <td>음성품질</td>\n",
              "    </tr>\n",
              "    <tr>\n",
              "      <th>1</th>\n",
              "      <td>실내 외 오다 가다 오다 번갈아 잡히다 불량</td>\n",
              "      <td>데이터품질</td>\n",
              "    </tr>\n",
              "    <tr>\n",
              "      <th>2</th>\n",
              "      <td>변경 후 현상 영상통화 되어다 고함 위치 무관 콜라 영상통화 고함</td>\n",
              "      <td>데이터품질</td>\n",
              "    </tr>\n",
              "    <tr>\n",
              "      <th>3</th>\n",
              "      <td>원래 이틀 전 댁 내부 모두 데이터 불량 단말기 버전 설정 여부 사용</td>\n",
              "      <td>음성품질</td>\n",
              "    </tr>\n",
              "    <tr>\n",
              "      <th>4</th>\n",
              "      <td>몇 달다 위치 무관 페이스 톡 및 영상통화 끊기다 사무실 함 페이 스톡 확인 시 어...</td>\n",
              "      <td>음성품질</td>\n",
              "    </tr>\n",
              "  </tbody>\n",
              "</table>\n",
              "</div>"
            ],
            "text/plain": [
              "                                                memo  label\n",
              "0                                        영통 음성 정상 초기   음성품질\n",
              "1                           실내 외 오다 가다 오다 번갈아 잡히다 불량  데이터품질\n",
              "2               변경 후 현상 영상통화 되어다 고함 위치 무관 콜라 영상통화 고함  데이터품질\n",
              "3             원래 이틀 전 댁 내부 모두 데이터 불량 단말기 버전 설정 여부 사용   음성품질\n",
              "4  몇 달다 위치 무관 페이스 톡 및 영상통화 끊기다 사무실 함 페이 스톡 확인 시 어...   음성품질"
            ]
          },
          "metadata": {
            "tags": []
          },
          "execution_count": 12
        }
      ]
    },
    {
      "cell_type": "code",
      "metadata": {
        "id": "mTJycfCYZ_Yo",
        "colab_type": "code",
        "colab": {
          "base_uri": "https://localhost:8080/",
          "height": 1000
        },
        "outputId": "e750d08f-4632-4386-8161-5088c2f11bab"
      },
      "source": [
        "# Tokenizer로 정수 인코딩\n",
        "tokenizer = Tokenizer()\n",
        "tokenizer.fit_on_texts(X_train)\n",
        "tokenizer.word_index"
      ],
      "execution_count": null,
      "outputs": [
        {
          "output_type": "execute_result",
          "data": {
            "text/plain": [
              "{'가끔': 57,\n",
              " '가다': 47,\n",
              " '갑자기': 27,\n",
              " '개선': 84,\n",
              " '개통': 161,\n",
              " '거': 75,\n",
              " '건물': 39,\n",
              " '걸다': 73,\n",
              " '것': 37,\n",
              " '계시': 81,\n",
              " '고객': 66,\n",
              " '고함': 3,\n",
              " '관동': 77,\n",
              " '군데': 137,\n",
              " '권유': 23,\n",
              " '기기': 16,\n",
              " '기변': 157,\n",
              " '긴급': 68,\n",
              " '깨다': 147,\n",
              " '깨지다': 136,\n",
              " '끊기다': 126,\n",
              " '나가다': 69,\n",
              " '나아지다': 60,\n",
              " '나오다': 36,\n",
              " '내': 33,\n",
              " '내부': 117,\n",
              " '다른': 53,\n",
              " '단말': 71,\n",
              " '단말기': 119,\n",
              " '단절': 143,\n",
              " '달다': 52,\n",
              " '달이': 93,\n",
              " '달전': 164,\n",
              " '담당자': 85,\n",
              " '댁': 116,\n",
              " '데이터': 2,\n",
              " '동일': 21,\n",
              " '되다': 35,\n",
              " '되어다': 25,\n",
              " '드림': 154,\n",
              " '들다': 139,\n",
              " '들어오다': 91,\n",
              " '뜨다': 10,\n",
              " '로': 20,\n",
              " '리지': 89,\n",
              " '만': 162,\n",
              " '몇': 122,\n",
              " '모두': 118,\n",
              " '모드': 19,\n",
              " '모든': 65,\n",
              " '무': 131,\n",
              " '무관': 17,\n",
              " '문의': 92,\n",
              " '및': 125,\n",
              " '발신': 102,\n",
              " '방법': 104,\n",
              " '버전': 120,\n",
              " '번갈아': 109,\n",
              " '벗어나다': 59,\n",
              " '변경': 48,\n",
              " '보이': 163,\n",
              " '보이다': 165,\n",
              " '본인': 76,\n",
              " '분': 140,\n",
              " '분과': 150,\n",
              " '불량': 6,\n",
              " '비교': 153,\n",
              " '사람': 148,\n",
              " '사무실': 127,\n",
              " '사용': 22,\n",
              " '상대방': 145,\n",
              " '상전': 94,\n",
              " '설정': 24,\n",
              " '센터': 64,\n",
              " '스톡': 129,\n",
              " '시': 43,\n",
              " '실': 79,\n",
              " '실내': 107,\n",
              " '실패': 103,\n",
              " '심': 12,\n",
              " '쓰다': 160,\n",
              " '안내': 105,\n",
              " '안테나': 144,\n",
              " '애기': 138,\n",
              " '어려움': 130,\n",
              " '어문': 159,\n",
              " '어제': 101,\n",
              " '언제': 90,\n",
              " '얼굴': 146,\n",
              " '없어지다': 98,\n",
              " '여부': 121,\n",
              " '영상': 133,\n",
              " '영상통화': 5,\n",
              " '영통': 106,\n",
              " '오늘': 8,\n",
              " '오다': 51,\n",
              " '오전': 61,\n",
              " '외': 108,\n",
              " '외부': 31,\n",
              " '원래': 113,\n",
              " '위치': 26,\n",
              " '유심': 28,\n",
              " '음성': 49,\n",
              " '이': 54,\n",
              " '이용': 14,\n",
              " '이탈': 18,\n",
              " '이틀': 114,\n",
              " '이후': 100,\n",
              " '인터넷': 55,\n",
              " '일반': 132,\n",
              " '일전': 155,\n",
              " '임': 70,\n",
              " '자녀': 38,\n",
              " '자다': 158,\n",
              " '잡히다': 110,\n",
              " '장소': 156,\n",
              " '재': 40,\n",
              " '재부팅': 152,\n",
              " '적다': 95,\n",
              " '전': 115,\n",
              " '전체': 83,\n",
              " '전화': 34,\n",
              " '전환': 74,\n",
              " '점검': 7,\n",
              " '접속': 30,\n",
              " '정도': 44,\n",
              " '정상': 4,\n",
              " '조금': 32,\n",
              " '종료': 45,\n",
              " '주민': 63,\n",
              " '주소지': 58,\n",
              " '중': 97,\n",
              " '증상': 11,\n",
              " '지나다': 141,\n",
              " '지속': 42,\n",
              " '착': 29,\n",
              " '초기': 50,\n",
              " '추가': 87,\n",
              " '층': 80,\n",
              " '커버': 88,\n",
              " '콜라': 112,\n",
              " '테스트': 151,\n",
              " '톡': 124,\n",
              " '통화': 1,\n",
              " '통화시': 134,\n",
              " '티맵': 96,\n",
              " '페이': 128,\n",
              " '페이스': 123,\n",
              " '평소': 56,\n",
              " '폰': 9,\n",
              " '표시': 99,\n",
              " '학교': 82,\n",
              " '함': 15,\n",
              " '해달라다': 86,\n",
              " '해당': 62,\n",
              " '해도': 41,\n",
              " '해봤다': 149,\n",
              " '핸드폰': 67,\n",
              " '행정': 78,\n",
              " '현상': 111,\n",
              " '호': 142,\n",
              " '화면': 135,\n",
              " '확인': 46,\n",
              " '후': 13,\n",
              " '휴대폰': 72}"
            ]
          },
          "metadata": {
            "tags": []
          },
          "execution_count": 13
        }
      ]
    },
    {
      "cell_type": "code",
      "metadata": {
        "id": "fGDjKzqTZ_a_",
        "colab_type": "code",
        "colab": {}
      },
      "source": [
        "total_cnt = len(tokenizer.word_index) # 단어사전의 크기\n",
        "vocab_size = total_cnt + 1 # OOV 고려\n",
        "\n",
        "tokenizer = Tokenizer(vocab_size) \n",
        "tokenizer.fit_on_texts(X_train)\n",
        "X_train = tokenizer.texts_to_sequences(X_train)\n",
        "X_test = tokenizer.texts_to_sequences(X_test)"
      ],
      "execution_count": null,
      "outputs": []
    },
    {
      "cell_type": "code",
      "metadata": {
        "id": "kDlRqprHbOJ2",
        "colab_type": "code",
        "colab": {}
      },
      "source": [
        "# y_train과 y_test를 지정\n",
        "y_train = np.array(train_data['label'])\n",
        "y_test = np.array(test_data['label'])"
      ],
      "execution_count": null,
      "outputs": []
    },
    {
      "cell_type": "code",
      "metadata": {
        "id": "x0tBFXl8bOPA",
        "colab_type": "code",
        "colab": {
          "base_uri": "https://localhost:8080/",
          "height": 34
        },
        "outputId": "8c9019ad-879d-45d1-cad4-e441bb516ca3"
      },
      "source": [
        "# y_train과 y_test도 str -> float 꼴로 바꿔줌\n",
        "\n",
        "dic_category = {'데이터품질': 0, '영상품질': 1, '음성품질': 2}\n",
        "for i in range(len(y_train)):\n",
        "  y_train[i] = dic_category[y_train[i]]\n",
        "for i in range(len(y_test)):\n",
        "  y_test[i] = dic_category[y_test[i]]\n",
        "  \n",
        "y_test[-10:]"
      ],
      "execution_count": null,
      "outputs": [
        {
          "output_type": "execute_result",
          "data": {
            "text/plain": [
              "array([1, 0, 1, 0, 1, 2, 0, 1, 0, 0], dtype=object)"
            ]
          },
          "metadata": {
            "tags": []
          },
          "execution_count": 17
        }
      ]
    },
    {
      "cell_type": "code",
      "metadata": {
        "id": "4AIEiCnYZ_dW",
        "colab_type": "code",
        "colab": {
          "base_uri": "https://localhost:8080/",
          "height": 314
        },
        "outputId": "5a758910-09ba-453a-f52c-e1a131537bf8"
      },
      "source": [
        "# 전체 데이터 중 가장 긴 메모, 메모 평균  길이로 어느정도 길이로 잘라낼지 확인\n",
        "print('메모 최대 길이 :',max(len(l) for l in X_train))\n",
        "print('메모 평균 길이 :',sum(map(len, X_train))/len(X_train))\n",
        "plt.hist([len(s) for s in X_train], bins=50)\n",
        "plt.xlabel('length of memo')\n",
        "plt.ylabel('number of memo')\n",
        "plt.show()"
      ],
      "execution_count": null,
      "outputs": [
        {
          "output_type": "stream",
          "text": [
            "메모 최대 길이 : 36\n",
            "메모 평균 길이 : 13.811111111111112\n"
          ],
          "name": "stdout"
        },
        {
          "output_type": "display_data",
          "data": {
            "image/png": "[encoded data removed]",
            "text/plain": [
              "<Figure size 432x288 with 1 Axes>"
            ]
          },
          "metadata": {
            "tags": [],
            "needs_background": "light"
          }
        }
      ]
    },
    {
      "cell_type": "code",
      "metadata": {
        "id": "3ob3eu1eb7TP",
        "colab_type": "code",
        "colab": {
          "base_uri": "https://localhost:8080/",
          "height": 34
        },
        "outputId": "187c5f97-cc12-4c3a-fd7b-20d49ac9fb59"
      },
      "source": [
        "#전체 데이터 중 특정 length 이하인 비율을 알려주는 함수\n",
        "\n",
        "def below_threshold_len(max_len, nested_list):\n",
        "  cnt = 0\n",
        "  for s in nested_list:\n",
        "    if(len(s) <= max_len):\n",
        "        cnt = cnt + 1\n",
        "  print('전체 데이터 중 길이가 %s 이하인 데이터의 비율: %s'%(max_len, (cnt / len(nested_list))*100))\n",
        "\n",
        "max_len = 30  # 위 그래프 보면서 임의로 값 넣어보면서 비율 확인\n",
        "below_threshold_len(max_len, X_train)\n"
      ],
      "execution_count": null,
      "outputs": [
        {
          "output_type": "stream",
          "text": [
            "전체 데이터 중 길이가 30 이하인 데이터의 비율: 95.55555555555556\n"
          ],
          "name": "stdout"
        }
      ]
    },
    {
      "cell_type": "code",
      "metadata": {
        "id": "c13xvn76b7Vw",
        "colab_type": "code",
        "colab": {}
      },
      "source": [
        "# 모든 데이터의 길이를 앞서 설정한 max_len으로 맞춰줌: padding\n",
        "\n",
        "X_train = pad_sequences(X_train, maxlen = max_len)\n",
        "X_test = pad_sequences(X_test, maxlen = max_len)"
      ],
      "execution_count": null,
      "outputs": []
    },
    {
      "cell_type": "code",
      "metadata": {
        "id": "nHJSs72drtUL",
        "colab_type": "code",
        "colab": {
          "base_uri": "https://localhost:8080/",
          "height": 176
        },
        "outputId": "ef5ff829-bca3-46c6-c065-d72e470ab68d"
      },
      "source": [
        "X_test[:3]"
      ],
      "execution_count": null,
      "outputs": [
        {
          "output_type": "execute_result",
          "data": {
            "text/plain": [
              "array([[  0,   0,   0,   0,   0,   0,   0,   0,   0,   0,   0,   0,   0,\n",
              "          0,   0,   0,   0,   0,   0,   0,   0,   0,   0,   0,   0,   0,\n",
              "        106,  49,   4,  50],\n",
              "       [  0,   0,   0,   0,   0,   0,   0,   0,   0,   0,   0,   0,   0,\n",
              "          0,   0,   0,   0,   0,   0,   0,   0,   0, 107, 108,  51,  47,\n",
              "         51, 109, 110,   6],\n",
              "       [  0,   0,   0,   0,   0,   0,   0,   0,   0,   0,   0,   0,   0,\n",
              "          0,   0,   0,   0,   0,   0,  48,  13, 111,   5,  25,   3,  26,\n",
              "         17, 112,   5,   3]], dtype=int32)"
            ]
          },
          "metadata": {
            "tags": []
          },
          "execution_count": 97
        }
      ]
    },
    {
      "cell_type": "code",
      "metadata": {
        "id": "PZOuFDHHrM-h",
        "colab_type": "code",
        "colab": {
          "base_uri": "https://localhost:8080/",
          "height": 123
        },
        "outputId": "d6a0202b-df3f-4833-a6a5-487e9cc44793"
      },
      "source": [
        "# y_train과 y_test 형변환\n",
        "y_train = np.asarray(y_train).astype(np.float32)\n",
        "y_test = np.asarray(y_test).astype(np.float32)\n",
        "\n",
        "y_train"
      ],
      "execution_count": null,
      "outputs": [
        {
          "output_type": "execute_result",
          "data": {
            "text/plain": [
              "array([0., 0., 1., 2., 0., 1., 2., 0., 2., 1., 2., 0., 0., 1., 1., 2., 1.,\n",
              "       1., 2., 1., 2., 2., 1., 2., 2., 0., 2., 0., 1., 2., 1., 1., 2., 1.,\n",
              "       0., 2., 2., 2., 1., 1., 1., 1., 1., 1., 0., 1., 0., 1., 0., 0., 2.,\n",
              "       0., 0., 2., 2., 1., 0., 0., 0., 1., 2., 1., 0., 2., 2., 2., 2., 0.,\n",
              "       0., 0., 0., 1., 2., 1., 0., 0., 2., 1., 0., 2., 2., 0., 2., 0., 1.,\n",
              "       0., 0., 1., 1., 2.], dtype=float32)"
            ]
          },
          "metadata": {
            "tags": []
          },
          "execution_count": 98
        }
      ]
    },
    {
      "cell_type": "markdown",
      "metadata": {
        "id": "7jJSWP_nWqrn",
        "colab_type": "text"
      },
      "source": [
        "# **간단한 모델 적용 예시**"
      ]
    },
    {
      "cell_type": "markdown",
      "metadata": {
        "id": "hG4wJqTWmt4Q",
        "colab_type": "text"
      },
      "source": [
        "학습 데이터가 90건 정도인 예시이므로, 본 예시에선 유의미한 성능을 내게끔 학습은 X\n"
      ]
    },
    {
      "cell_type": "markdown",
      "metadata": {
        "id": "CuYm2pbO5adH",
        "colab_type": "text"
      },
      "source": [
        "Ex 1) **LSTM**"
      ]
    },
    {
      "cell_type": "code",
      "metadata": {
        "id": "m_-JaJebcIhS",
        "colab_type": "code",
        "colab": {}
      },
      "source": [
        "# LSTM 구현 라이브러리 import\n",
        "from tensorflow.keras.layers import Embedding, Dense, LSTM\n",
        "from tensorflow.keras.models import Sequential"
      ],
      "execution_count": null,
      "outputs": []
    },
    {
      "cell_type": "code",
      "metadata": {
        "id": "1h4w6WkMcI3k",
        "colab_type": "code",
        "colab": {}
      },
      "source": [
        "# 모델 제작 \n",
        "model = Sequential()\n",
        "model.add(Embedding(vocab_size, 100, input_length=max_len)) \n",
        "model.add(LSTM(100))\n",
        "model.add(Dense(3, activation = 'softmax'))"
      ],
      "execution_count": null,
      "outputs": []
    },
    {
      "cell_type": "code",
      "metadata": {
        "id": "07QR-RzicUGi",
        "colab_type": "code",
        "colab": {
          "base_uri": "https://localhost:8080/",
          "height": 158
        },
        "outputId": "9d706f6b-e93d-4575-ff75-7e5646be406e"
      },
      "source": [
        "model.compile(optimizer='adam', loss='sparse_categorical_crossentropy', metrics=['acc'])\n",
        "history = model.fit(X_train, y_train, epochs=4, batch_size=64)"
      ],
      "execution_count": null,
      "outputs": [
        {
          "output_type": "stream",
          "text": [
            "Epoch 1/4\n",
            "2/2 [==============================] - 0s 19ms/step - loss: 1.0992 - acc: 0.3667\n",
            "Epoch 2/4\n",
            "2/2 [==============================] - 0s 15ms/step - loss: 1.0947 - acc: 0.4111\n",
            "Epoch 3/4\n",
            "2/2 [==============================] - 0s 14ms/step - loss: 1.0902 - acc: 0.4556\n",
            "Epoch 4/4\n",
            "2/2 [==============================] - 0s 14ms/step - loss: 1.0853 - acc: 0.4889\n"
          ],
          "name": "stdout"
        }
      ]
    },
    {
      "cell_type": "markdown",
      "metadata": {
        "id": "Gt6azxhR5mpD",
        "colab_type": "text"
      },
      "source": [
        "**Ex 2) MLP**"
      ]
    },
    {
      "cell_type": "code",
      "metadata": {
        "id": "sRtuglSheBME",
        "colab_type": "code",
        "colab": {
          "base_uri": "https://localhost:8080/",
          "height": 158
        },
        "outputId": "939afe92-707c-4a13-bd37-9a155da4c557"
      },
      "source": [
        "from keras.models import Sequential\n",
        "from keras.layers import Dense, Embedding\n",
        "from keras.layers import Flatten\n",
        "\n",
        "model2 = Sequential()\n",
        "model2.add(Embedding(vocab_size, 100, input_length=max_len))\n",
        "model2.add(Flatten())\n",
        "model2.add(Dense(128, activation='relu'))\n",
        "model2.add(Dense(3, activation='softmax'))\n",
        "\n",
        "model2.compile(loss='sparse_categorical_crossentropy', optimizer='adam', metrics=['accuracy'])\n",
        "history = model2.fit(X_train, y_train, epochs=4, batch_size=64, verbose=1)"
      ],
      "execution_count": null,
      "outputs": [
        {
          "output_type": "stream",
          "text": [
            "Epoch 1/4\n",
            "2/2 [==============================] - 0s 5ms/step - loss: 1.1002 - accuracy: 0.3889\n",
            "Epoch 2/4\n",
            "2/2 [==============================] - 0s 5ms/step - loss: 1.0569 - accuracy: 0.4333\n",
            "Epoch 3/4\n",
            "2/2 [==============================] - 0s 5ms/step - loss: 1.0356 - accuracy: 0.4667\n",
            "Epoch 4/4\n",
            "2/2 [==============================] - 0s 5ms/step - loss: 1.0149 - accuracy: 0.5111\n"
          ],
          "name": "stdout"
        }
      ]
    },
    {
      "cell_type": "markdown",
      "metadata": {
        "id": "SONqCagf51i-",
        "colab_type": "text"
      },
      "source": [
        "**참고) Early Stopping과 Model Checkpoint 활용**"
      ]
    },
    {
      "cell_type": "code",
      "metadata": {
        "id": "Q3vNTX2lr37g",
        "colab_type": "code",
        "colab": {}
      },
      "source": [
        "from tensorflow.keras.callbacks import EarlyStopping, ModelCheckpoint\n",
        "\n",
        "# validation_loss가 증가 -> overfitting의 징후이므로, 4회 이상 증가시 학습 조기 종료\n",
        "# ModelCheckpoint로 val_acc이 전보다 좋아질 경우에만 모델 저장\n",
        "es = EarlyStopping(monitor='val_loss', mode='min', verbose=1, patience=4)\n",
        "mc = ModelCheckpoint('best_model.h5', monitor='val_acc', mode='max', verbose=1, save_best_only=True)\n",
        "\n",
        "#####################  ex) model = Sequential()\n",
        "####  모델 제작  ####      model.add(Embedding(vocab_size, 100, input_length=max_len)) \n",
        "#####################      ...\n",
        "\n",
        "model.compile(optimizer='adam', loss='sparse_categorical_crossentropy', metrics=['acc'])\n",
        "\n",
        "# model.fit 에 callbacks 추가\n",
        "history = model.fit(X_train, y_train, epochs=15, callbacks=[es, mc], batch_size=64, validation_split=0.2)"
      ],
      "execution_count": null,
      "outputs": []
    },
    {
      "cell_type": "markdown",
      "metadata": {
        "id": "mejtkQpF6CxE",
        "colab_type": "text"
      },
      "source": [
        "**Ex 3) CNN**"
      ]
    },
    {
      "cell_type": "code",
      "metadata": {
        "id": "OqmRbgSyec3N",
        "colab_type": "code",
        "colab": {}
      },
      "source": [
        "from keras.utils import np_utils\n",
        "from keras.models import Sequential\n",
        "from keras.layers import Dense, Embedding, LSTM\n",
        "from keras.layers import Flatten, Dropout\n",
        "from keras.layers import Conv1D, GlobalMaxPooling1D\n",
        "\n",
        "model3 = Sequential()\n",
        "model3.add(Embedding(vocab_size, 100, input_length=max_len))\n",
        "model3.add(Conv1D(32,\n",
        "                 8,\n",
        "                 padding='valid',\n",
        "                 activation='relu',\n",
        "                 strides=1))\n",
        "model3.add(GlobalMaxPooling1D())\n",
        "model3.add(Dense(128, activation='relu'))\n",
        "model3.add(Dense(3, activation='softmax'))"
      ],
      "execution_count": null,
      "outputs": []
    },
    {
      "cell_type": "code",
      "metadata": {
        "id": "0-HwNl3beqR_",
        "colab_type": "code",
        "colab": {
          "base_uri": "https://localhost:8080/",
          "height": 390
        },
        "outputId": "48119905-803e-479d-e692-7a44351207a7"
      },
      "source": [
        "# validation_loss가 증가 -> overfitting의 징후이므로, 4회 이상 증가시 학습 조기 종료\n",
        "# ModelCheckpoint로 val_acc이 전보다 좋아질 경우에만 모델 저장\n",
        "es = EarlyStopping(monitor='val_loss', mode='min', verbose=1, patience=4)\n",
        "mc = ModelCheckpoint('best_model.h5', monitor='val_acc', mode='max', verbose=1, save_best_only=True)\n",
        "\n",
        "model3.compile(optimizer='adam', loss='sparse_categorical_crossentropy', metrics=['acc'])\n",
        "history = model3.fit(X_train, y_train, epochs=8, callbacks=[es, mc], batch_size=64, validation_split=0.25)"
      ],
      "execution_count": null,
      "outputs": [
        {
          "output_type": "stream",
          "text": [
            "Epoch 1/8\n",
            "1/2 [==============>...............] - ETA: 0s - loss: 1.0976 - acc: 0.3906\n",
            "Epoch 00001: val_acc improved from -inf to 0.30435, saving model to best_model.h5\n",
            "2/2 [==============================] - 1s 302ms/step - loss: 1.0973 - acc: 0.3881 - val_loss: 1.1098 - val_acc: 0.3043\n",
            "Epoch 2/8\n",
            "1/2 [==============>...............] - ETA: 0s - loss: 1.0852 - acc: 0.4844\n",
            "Epoch 00002: val_acc did not improve from 0.30435\n",
            "2/2 [==============================] - 0s 13ms/step - loss: 1.0853 - acc: 0.4925 - val_loss: 1.1157 - val_acc: 0.3043\n",
            "Epoch 3/8\n",
            "1/2 [==============>...............] - ETA: 0s - loss: 1.0805 - acc: 0.4844\n",
            "Epoch 00003: val_acc did not improve from 0.30435\n",
            "2/2 [==============================] - 0s 12ms/step - loss: 1.0768 - acc: 0.5075 - val_loss: 1.1202 - val_acc: 0.3043\n",
            "Epoch 4/8\n",
            "1/2 [==============>...............] - ETA: 0s - loss: 1.0733 - acc: 0.4844\n",
            "Epoch 00004: val_acc did not improve from 0.30435\n",
            "2/2 [==============================] - 0s 12ms/step - loss: 1.0692 - acc: 0.5075 - val_loss: 1.1270 - val_acc: 0.3043\n",
            "Epoch 5/8\n",
            "1/2 [==============>...............] - ETA: 0s - loss: 1.0612 - acc: 0.5000\n",
            "Epoch 00005: val_acc did not improve from 0.30435\n",
            "2/2 [==============================] - 0s 12ms/step - loss: 1.0613 - acc: 0.5075 - val_loss: 1.1345 - val_acc: 0.3043\n",
            "Epoch 00005: early stopping\n"
          ],
          "name": "stdout"
        }
      ]
    },
    {
      "cell_type": "markdown",
      "metadata": {
        "id": "-x3-8qzQ6Lyd",
        "colab_type": "text"
      },
      "source": [
        "**Model Checkpont로부터 모델 load 및 활용**"
      ]
    },
    {
      "cell_type": "code",
      "metadata": {
        "id": "bz3TowxDeYli",
        "colab_type": "code",
        "colab": {
          "base_uri": "https://localhost:8080/",
          "height": 232
        },
        "outputId": "6f4bedb8-a620-450e-ab9d-084c1019d80f"
      },
      "source": [
        "loaded_model = load_model('best_model.h5')\n",
        "print(\"\\n 테스트 정확도: %.4f\" % (loaded_model.evaluate(X_test, y_test)[1]))"
      ],
      "execution_count": null,
      "outputs": [
        {
          "output_type": "stream",
          "text": [
            "WARNING:tensorflow:AutoGraph could not transform <function Model.make_test_function.<locals>.test_function at 0x7f6196e35d90> and will run it as-is.\n",
            "Please report this to the TensorFlow team. When filing the bug, set the verbosity to 10 (on Linux, `export AUTOGRAPH_VERBOSITY=10`) and attach the full output.\n",
            "Cause: Unable to locate the source code of <function Model.make_test_function.<locals>.test_function at 0x7f6196e35d90>. Note that functions defined in certain environments, like the interactive Python shell do not expose their source code. If that is the case, you should to define them in a .py source file. If you are certain the code is graph-compatible, wrap the call using @tf.autograph.do_not_convert. Original error: could not get source code\n",
            "To silence this warning, decorate the function with @tf.autograph.experimental.do_not_convert\n",
            "WARNING: AutoGraph could not transform <function Model.make_test_function.<locals>.test_function at 0x7f6196e35d90> and will run it as-is.\n",
            "Please report this to the TensorFlow team. When filing the bug, set the verbosity to 10 (on Linux, `export AUTOGRAPH_VERBOSITY=10`) and attach the full output.\n",
            "Cause: Unable to locate the source code of <function Model.make_test_function.<locals>.test_function at 0x7f6196e35d90>. Note that functions defined in certain environments, like the interactive Python shell do not expose their source code. If that is the case, you should to define them in a .py source file. If you are certain the code is graph-compatible, wrap the call using @tf.autograph.do_not_convert. Original error: could not get source code\n",
            "To silence this warning, decorate the function with @tf.autograph.experimental.do_not_convert\n",
            "1/1 [==============================] - 0s 4ms/step - loss: 1.1338 - acc: 0.6000\n",
            "\n",
            " 테스트 정확도: 0.6000\n"
          ],
          "name": "stdout"
        }
      ]
    }
  ]
}